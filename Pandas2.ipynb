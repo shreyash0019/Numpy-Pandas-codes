{
 "cells": [
  {
   "cell_type": "code",
   "execution_count": 3,
   "id": "554d45ee-49e4-42f7-af41-95260e5a9a84",
   "metadata": {},
   "outputs": [],
   "source": [
    "import pandas as pd\n",
    "import numpy as np"
   ]
  },
  {
   "cell_type": "code",
   "execution_count": 5,
   "id": "eded69c1-a4e1-4aa7-96e3-98d53da7b9f1",
   "metadata": {},
   "outputs": [
    {
     "name": "stdout",
     "output_type": "stream",
     "text": [
      "z      Mark\n",
      "y      Rita\n",
      "x     Vicki\n",
      "w    Justin\n",
      "v      John\n",
      "u    Michal\n",
      "dtype: object\n"
     ]
    }
   ],
   "source": [
    "names = pd.Series(  ['Mark', 'Rita', 'Vicki', 'Justin', 'John', 'Michal'],\n",
    "                    index = ['z', 'y', 'x', 'w', 'v', 'u'])\n",
    "print(names)"
   ]
  },
  {
   "cell_type": "code",
   "execution_count": 7,
   "id": "aa16f4e4-3cd4-47de-907f-128d595994ae",
   "metadata": {},
   "outputs": [
    {
     "name": "stdout",
     "output_type": "stream",
     "text": [
      "First Element:  Mark\n",
      "Third Element:  Michal\n"
     ]
    },
    {
     "name": "stderr",
     "output_type": "stream",
     "text": [
      "C:\\Users\\Shreyas1\\AppData\\Local\\Temp\\ipykernel_4976\\758826471.py:1: FutureWarning: Series.__getitem__ treating keys as positions is deprecated. In a future version, integer keys will always be treated as labels (consistent with DataFrame behavior). To access a value by position, use `ser.iloc[pos]`\n",
      "  first_element = names[0]\n",
      "C:\\Users\\Shreyas1\\AppData\\Local\\Temp\\ipykernel_4976\\758826471.py:3: FutureWarning: Series.__getitem__ treating keys as positions is deprecated. In a future version, integer keys will always be treated as labels (consistent with DataFrame behavior). To access a value by position, use `ser.iloc[pos]`\n",
      "  third_element = names[5]\n"
     ]
    }
   ],
   "source": [
    "first_element = names[0]\n",
    "print('First Element: ', first_element)\n",
    "third_element = names[5]\n",
    "print('Third Element: ', third_element)"
   ]
  },
  {
   "cell_type": "code",
   "execution_count": 11,
   "id": "e84deee0-2a3c-4875-a74e-6b279f1f5b87",
   "metadata": {},
   "outputs": [
    {
     "name": "stdout",
     "output_type": "stream",
     "text": [
      "First Element:  Mark\n",
      "Third Element:  Michal\n"
     ]
    }
   ],
   "source": [
    "first_element = names['z']\n",
    "print('First Element: ', first_element)\n",
    "# Access 3rd element of the Series object\n",
    "third_element = names['u']\n",
    "print('Third Element: ', third_element)"
   ]
  },
  {
   "cell_type": "code",
   "execution_count": 13,
   "id": "9b365baf-f00a-42ce-84a5-7ab2e2c1adf9",
   "metadata": {},
   "outputs": [
    {
     "name": "stdout",
     "output_type": "stream",
     "text": [
      "z      Mark\n",
      "y      Rita\n",
      "x     Vicki\n",
      "w    Justin\n",
      "v      John\n",
      "u    Michal\n",
      "dtype: object\n",
      "----------------------\n",
      "First Element:  Mark\n",
      "Third Element:  Michal\n"
     ]
    }
   ],
   "source": [
    "print(names)\n",
    "print(\"----------------------\")\n",
    "first_element = names['z']\n",
    "print('First Element: ', first_element)\n",
    "third_element = names['u']\n",
    "print('Third Element: ', third_element)"
   ]
  },
  {
   "cell_type": "code",
   "execution_count": 15,
   "id": "3304775c-ebdc-4f5e-903f-0443601970db",
   "metadata": {},
   "outputs": [
    {
     "name": "stdout",
     "output_type": "stream",
     "text": [
      "0      Mark\n",
      "1      Rita\n",
      "2     Vicki\n",
      "3    Justin\n",
      "4      John\n",
      "5    Michal\n",
      "dtype: object\n",
      "-----------------------------------------------\n",
      "1      Rita\n",
      "2     Vicki\n",
      "3    Justin\n",
      "dtype: object\n"
     ]
    }
   ],
   "source": [
    "import pandas as pd\n",
    "# Create a Series object from a list\n",
    "names = pd.Series(  ['Mark', 'Rita', 'Vicki', 'Justin', 'John', 'Michal'] )\n",
    "print(names)\n",
    "print(\"-----------------------------------------------\")\n",
    "# Select elements from index position 1 till 3\n",
    "few_names = names[1:4]\n",
    "# Display the subset of Series\n",
    "print(few_names)"
   ]
  },
  {
   "cell_type": "code",
   "execution_count": 25,
   "id": "6176d7cc-10d5-4b21-aea5-70972af7dfcc",
   "metadata": {},
   "outputs": [
    {
     "name": "stdout",
     "output_type": "stream",
     "text": [
      "a1    aaaa\n",
      "b2    bbbb\n",
      "c3    cccc\n",
      "d4    dddd\n",
      "e5    eeee\n",
      "f6    ffff\n",
      "dtype: object\n",
      "----------------------------\n",
      "a1    aaaa\n",
      "b2    bbbb\n",
      "c3    cccc\n",
      "d4    dddd\n",
      "dtype: object\n"
     ]
    }
   ],
   "source": [
    "names=pd.Series(['aaaa','bbbb','cccc','dddd','eeee','ffff'],index=['a1','b2','c3','d4','e5','f6'])\n",
    "print(names)\n",
    "print(\"----------------------------\")\n",
    "few_names = names['a1':'d4']\n",
    "# Display the subset of Series\n",
    "print(few_names)"
   ]
  },
  {
   "cell_type": "code",
   "execution_count": 27,
   "id": "41489aed-2fc0-4360-a5e8-67dd42866aa3",
   "metadata": {},
   "outputs": [
    {
     "name": "stdout",
     "output_type": "stream",
     "text": [
      "a      Mark\n",
      "b      Rita\n",
      "c     Vicki\n",
      "d    Justin\n",
      "e      John\n",
      "f    Michal\n",
      "dtype: object\n",
      "d    Justin\n",
      "e      John\n",
      "a      Mark\n",
      "dtype: object\n"
     ]
    }
   ],
   "source": [
    "import pandas as pd\n",
    "# Create a Series object from a list\n",
    "names = pd.Series(  ['Mark', 'Rita', 'Vicki', 'Justin', 'John', 'Michal'],\n",
    "                    index = ['a', 'b', 'c', 'd', 'e', 'f'])\n",
    "print(names)\n",
    "# Select elements at index labels 'd', 'e' and 'a'\n",
    "few_names = names[['d', 'e', 'a']]\n",
    "# Display the subset of Series\n",
    "print(few_names)"
   ]
  },
  {
   "cell_type": "code",
   "execution_count": 31,
   "id": "0f390023-6b9a-4e60-b7b0-6ae89aa6666d",
   "metadata": {},
   "outputs": [
    {
     "name": "stdout",
     "output_type": "stream",
     "text": [
      "a1    aaaa\n",
      "b2    bbbb\n",
      "c3    cccc\n",
      "d4    dddd\n",
      "e5    eeee\n",
      "f6    ffff\n",
      "dtype: object\n",
      "----------------------------\n",
      "a1    aaaa\n",
      "d4    dddd\n",
      "b2    bbbb\n",
      "dtype: object\n"
     ]
    }
   ],
   "source": [
    "names=pd.Series(['aaaa','bbbb','cccc','dddd','eeee','ffff'],index=['a1','b2','c3','d4','e5','f6'])\n",
    "print(names)\n",
    "print(\"----------------------------\")\n",
    "few_names = names[['a1','d4','b2']]\n",
    "# Display the subset of Series\n",
    "print(few_names)"
   ]
  },
  {
   "cell_type": "code",
   "execution_count": 33,
   "id": "63f39dfe-f26c-432b-a2b0-74ab1d3a76b4",
   "metadata": {},
   "outputs": [
    {
     "name": "stdout",
     "output_type": "stream",
     "text": [
      "a1      aaaa\n",
      "b2    Rossum\n",
      "c3      cccc\n",
      "d4      dddd\n",
      "e5      eeee\n",
      "f6      ffff\n",
      "dtype: object\n"
     ]
    }
   ],
   "source": [
    "names['b2']=\"Rossum\"\n",
    "print(names)"
   ]
  },
  {
   "cell_type": "code",
   "execution_count": 35,
   "id": "cb21effc-26e1-4ec8-b309-448b10abf962",
   "metadata": {},
   "outputs": [
    {
     "name": "stdout",
     "output_type": "stream",
     "text": [
      "0      Mark\n",
      "1      Rita\n",
      "2     Vicki\n",
      "3    Justin\n",
      "4      John\n",
      "5    Michal\n",
      "dtype: object\n"
     ]
    }
   ],
   "source": [
    "import pandas as pd\n",
    "# Create a Series object from a list\n",
    "names = pd.Series(  ['Mark', 'Rita', 'Vicki', 'Justin', 'John', 'Michal'])\n",
    "print(names)"
   ]
  },
  {
   "cell_type": "code",
   "execution_count": 37,
   "id": "70a18d13-b173-49e2-a69e-e064e4b011df",
   "metadata": {},
   "outputs": [
    {
     "name": "stdout",
     "output_type": "stream",
     "text": [
      "0                Mark\n",
      "1    Guido Van Rossum\n",
      "2               Vicki\n",
      "3              Justin\n",
      "4                John\n",
      "5              Michal\n",
      "dtype: object\n"
     ]
    }
   ],
   "source": [
    "names[1]=\"Guido Van Rossum\"\n",
    "print(names)"
   ]
  },
  {
   "cell_type": "code",
   "execution_count": 39,
   "id": "148967a9-4b0a-4b3d-9b59-12d45cd95d10",
   "metadata": {},
   "outputs": [],
   "source": [
    "names[[0,5,3]]=[\"KV\",\"HYD\",\"IND\"]"
   ]
  },
  {
   "cell_type": "code",
   "execution_count": 41,
   "id": "56b97a98-15bc-4aa8-a3a6-295674b86c19",
   "metadata": {},
   "outputs": [
    {
     "name": "stdout",
     "output_type": "stream",
     "text": [
      "0                  KV\n",
      "1    Guido Van Rossum\n",
      "2               Vicki\n",
      "3                 IND\n",
      "4                John\n",
      "5                 HYD\n",
      "dtype: object\n"
     ]
    }
   ],
   "source": [
    "print(names)"
   ]
  },
  {
   "cell_type": "code",
   "execution_count": 43,
   "id": "40ceb13a-9de8-40e3-ba7f-951cbe6e96f7",
   "metadata": {},
   "outputs": [
    {
     "name": "stdout",
     "output_type": "stream",
     "text": [
      "0      Mark\n",
      "1      Rita\n",
      "2     Vicki\n",
      "3    Justin\n",
      "4      John\n",
      "5    Michal\n",
      "dtype: object\n"
     ]
    }
   ],
   "source": [
    "import pandas as pd\n",
    "# Create a Series object from a list\n",
    "names = pd.Series(  ['Mark', 'Rita', 'Vicki', 'Justin', 'John', 'Michal'])\n",
    "print(names)"
   ]
  },
  {
   "cell_type": "code",
   "execution_count": 53,
   "id": "c29a47f5-1b05-4200-8803-c2c3b96e6abf",
   "metadata": {},
   "outputs": [
    {
     "name": "stdout",
     "output_type": "stream",
     "text": [
      "0    Pandas\n",
      "1      Rita\n",
      "2     NUMPY\n",
      "3    Pandas\n",
      "4     NUMPY\n",
      "5    Michal\n",
      "dtype: object\n"
     ]
    }
   ],
   "source": [
    "names[::3]=\"Pandas\"\n",
    "print(names)"
   ]
  },
  {
   "cell_type": "code",
   "execution_count": 55,
   "id": "6fc5382b-157a-45ee-a7be-12071ae1485f",
   "metadata": {},
   "outputs": [
    {
     "name": "stdout",
     "output_type": "stream",
     "text": [
      "0     NUMPY\n",
      "1      Rita\n",
      "2     NUMPY\n",
      "3    Pandas\n",
      "4     NUMPY\n",
      "5    Michal\n",
      "dtype: object\n"
     ]
    }
   ],
   "source": [
    "names[::2]=\"NUMPY\"\n",
    "print(names)"
   ]
  },
  {
   "cell_type": "code",
   "execution_count": 67,
   "id": "7bbc7386-e672-41ad-9dad-dca6f3d35f09",
   "metadata": {},
   "outputs": [
    {
     "name": "stdout",
     "output_type": "stream",
     "text": [
      "Values of Series\n",
      "0    2\n",
      "1    4\n",
      "2    3\n",
      "3    1\n",
      "4    5\n",
      "5    2\n",
      "dtype: int64\n",
      "========================\n",
      "240\n",
      "========================\n",
      "cumprod 0      2\n",
      "1      8\n",
      "2     24\n",
      "3     24\n",
      "4    120\n",
      "5    240\n",
      "dtype: int64\n"
     ]
    }
   ],
   "source": [
    "s=pd.Series([2,4,3,1,5,2])\n",
    "print(\"Values of Series\")\n",
    "print(s)\n",
    "print(\"========================\")\n",
    "print(s.product())\n",
    "print(\"========================\")\n",
    "print(s.cumprod())\n",
    "print(\"========================\")\n"
   ]
  },
  {
   "cell_type": "code",
   "execution_count": 69,
   "id": "26e69018-af98-485a-9341-ead8236012ff",
   "metadata": {},
   "outputs": [
    {
     "name": "stdout",
     "output_type": "stream",
     "text": [
      "Values of Series\n",
      "0    2.0\n",
      "1    4.0\n",
      "2    NaN\n",
      "3    3.0\n",
      "4    5.0\n",
      "dtype: float64\n",
      "-------------------------\n",
      "Product Values= 120.0\n"
     ]
    }
   ],
   "source": [
    "s=pd.Series([2,4,np.NaN,3,5])\n",
    "print(\"Values of Series\")\n",
    "print(s)\n",
    "print(\"-------------------------\")\n",
    "print(\"Product Values=\",s.product())"
   ]
  },
  {
   "cell_type": "code",
   "execution_count": 71,
   "id": "cfb7ae1c-507d-44eb-acb1-446bcfbdcd7e",
   "metadata": {},
   "outputs": [
    {
     "name": "stdout",
     "output_type": "stream",
     "text": [
      "Values of Series\n",
      "0    2\n",
      "1    4\n",
      "2    3\n",
      "3    1\n",
      "4    5\n",
      "5    2\n",
      "6    3\n",
      "7    5\n",
      "8    4\n",
      "dtype: int64\n",
      "--------------------------\n",
      "Max Eleemnt= 5\n",
      "Min Eleemnt= 1\n",
      "Mean Eleemnt= 3.2222222222222223\n",
      "Median Eleemnt= 3.0\n",
      "Std of Elements= 1.3944333775567928\n",
      "Product of Eleemnt= 14400\n"
     ]
    }
   ],
   "source": [
    "s=pd.Series([2,4,3,1,5,2,3,5,4])\n",
    "print(\"Values of Series\")\n",
    "print(s)\n",
    "print(\"--------------------------\")\n",
    "print(\"Max Eleemnt=\",s.max())\n",
    "print(\"Min Eleemnt=\",s.min())\n",
    "print(\"Mean Eleemnt=\",s.mean())\n",
    "print(\"Median Eleemnt=\",s.median())\n",
    "print(\"Std of Elements=\",s.std())\n",
    "print(\"Product of Eleemnt=\",s.product())"
   ]
  },
  {
   "cell_type": "code",
   "execution_count": 73,
   "id": "4abb28b6-fed9-4c6e-bcaa-08c3367e5faf",
   "metadata": {},
   "outputs": [
    {
     "name": "stdout",
     "output_type": "stream",
     "text": [
      "Values of Series\n",
      "0    2\n",
      "1    4\n",
      "2    3\n",
      "3    1\n",
      "4    5\n",
      "5    2\n",
      "6    3\n",
      "7    5\n",
      "8    4\n",
      "dtype: int64\n",
      "--------------------------\n"
     ]
    },
    {
     "data": {
      "text/plain": [
       "max            5.000000\n",
       "min            1.000000\n",
       "sum           29.000000\n",
       "mean           3.222222\n",
       "median         3.000000\n",
       "std            1.394433\n",
       "product    14400.000000\n",
       "dtype: float64"
      ]
     },
     "execution_count": 73,
     "metadata": {},
     "output_type": "execute_result"
    }
   ],
   "source": [
    "s=pd.Series([2,4,3,1,5,2,3,5,4])\n",
    "print(\"Values of Series\")\n",
    "print(s)\n",
    "print(\"--------------------------\")\n",
    "s.agg(['max',\"min\",\"sum\",\"mean\",\"median\",\"std\",\"product\"])"
   ]
  },
  {
   "cell_type": "code",
   "execution_count": null,
   "id": "948160e6-cde2-4d04-82bf-672275a06fc0",
   "metadata": {},
   "outputs": [],
   "source": []
  }
 ],
 "metadata": {
  "kernelspec": {
   "display_name": "Python 3 (ipykernel)",
   "language": "python",
   "name": "python3"
  },
  "language_info": {
   "codemirror_mode": {
    "name": "ipython",
    "version": 3
   },
   "file_extension": ".py",
   "mimetype": "text/x-python",
   "name": "python",
   "nbconvert_exporter": "python",
   "pygments_lexer": "ipython3",
   "version": "3.12.4"
  }
 },
 "nbformat": 4,
 "nbformat_minor": 5
}
