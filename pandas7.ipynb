{
 "cells": [
  {
   "cell_type": "code",
   "execution_count": 1,
   "id": "1c477078-0f44-4c9f-a78f-06725b753b93",
   "metadata": {},
   "outputs": [],
   "source": [
    "import numpy as np\n",
    "import pandas as pd"
   ]
  },
  {
   "cell_type": "code",
   "execution_count": 17,
   "id": "7f530bb6-366a-4f1e-84a8-4a91d8e3c47c",
   "metadata": {},
   "outputs": [
    {
     "name": "stdout",
     "output_type": "stream",
     "text": [
      "   0   1   2   3   4   5   6   7   8    9   10  11  12  13  14\n",
      "0  10  20  30  50  40  20  10  30  40  100  45  55  85  99  80\n",
      "1  10  20  30  50  40  20  10  30  40  100  45  55  85  99  80\n",
      "2  10  20  30  50  40  20  10  30  40  100  45  55  85  99  80\n",
      "3  10  20  30  50  40  20  10  30  40  100  45  55  85  99  80\n"
     ]
    }
   ],
   "source": [
    "a= [[10,20,30,50,40,20,10,30,40,100,45,55,85,99,80] , \n",
    "    [10,20,30,50,40,20,10,30,40,100,45,55,85,99,80],\n",
    "    [10,20,30,50,40,20,10,30,40,100,45,55,85,99,80],\n",
    "    [10,20,30,50,40,20,10,30,40,100,45,55,85,99,80]]\n",
    "df=pd.DataFrame(a)\n",
    "print(df)"
   ]
  },
  {
   "cell_type": "code",
   "execution_count": 147,
   "id": "ee9bb8f1-d649-42e9-bae1-1a78db1fc4c9",
   "metadata": {},
   "outputs": [
    {
     "name": "stdout",
     "output_type": "stream",
     "text": [
      "      Name        Desg  Salary\n",
      "0   Rossum  scientiest  8.5LPA\n",
      "1  thomsun  scientiest  5.5LPA <class 'pandas.core.frame.DataFrame'>\n"
     ]
    }
   ],
   "source": [
    "a=((\"Rossum\",\"scientiest\",\"8.5LPA\"),(\"thomsun\",\"scientiest\",\"5.5LPA\"))\n",
    "df=pd.DataFrame(a,columns=['Name','Desg','Salary'])\n",
    "print(df,type(df))"
   ]
  },
  {
   "cell_type": "code",
   "execution_count": 164,
   "id": "91555a13-f9f5-4a5a-8533-a8264820fa22",
   "metadata": {},
   "outputs": [
    {
     "name": "stdout",
     "output_type": "stream",
     "text": [
      "     0   1\n",
      "0  100  RS\n",
      "1  200  TR\n",
      "2  300  JH\n",
      "3  400  DR\n"
     ]
    }
   ],
   "source": [
    "lst=[[100,\"RS\"],[200,\"TR\"],[300,\"JH\"],[400,\"DR\"]]\n",
    "df=pd.DataFrame(lst)\n",
    "print(df)"
   ]
  },
  {
   "cell_type": "code",
   "execution_count": 166,
   "id": "808720d7-5a5b-4f83-8a49-d88caadc5ec3",
   "metadata": {},
   "outputs": [
    {
     "name": "stdout",
     "output_type": "stream",
     "text": [
      "        0    1    2    3\n",
      "ID    100  200  300  400\n",
      "NAME   RS   TR   JH   DR <class 'pandas.core.frame.DataFrame'>\n"
     ]
    }
   ],
   "source": [
    "lst=[[100,200,300,400],[\"RS\",\"TR\",\"JH\",\"DR\"]]\n",
    "df=pd.DataFrame(lst,index=[\"ID\",\"NAME\"])\n",
    "print(df,type(df))"
   ]
  },
  {
   "cell_type": "code",
   "execution_count": 174,
   "id": "8f96ecaf-edd9-4981-8ebd-cf47e9bf5b08",
   "metadata": {},
   "outputs": [
    {
     "name": "stdout",
     "output_type": "stream",
     "text": [
      "     Rec1 Rec2 Rec3 Rec4\n",
      "ID      1    2    3    4\n",
      "NAME   AA   BB   CC   DD\n"
     ]
    }
   ],
   "source": [
    "lst=[[1,2,3,4],[\"AA\",\"BB\",\"CC\",\"DD\"]]\n",
    "df=pd.DataFrame(lst,index=[\"ID\",\"NAME\"],columns=[\"Rec1\",\"Rec2\",\"Rec3\",\"Rec4\"])\n",
    "print(df)"
   ]
  },
  {
   "cell_type": "code",
   "execution_count": 172,
   "id": "5b450f4f-dc0a-4267-964a-a7a2cf34479c",
   "metadata": {},
   "outputs": [
    {
     "name": "stdout",
     "output_type": "stream",
     "text": [
      "     Rec1 Rec2 Rec3 Rec4\n",
      "ID    100  200  300  400\n",
      "NAME   RS   TR   JH   DR\n"
     ]
    }
   ],
   "source": [
    "lst=[[100,200,300,400],[\"RS\",\"TR\",\"JH\",\"DR\"]]\n",
    "df=pd.DataFrame(lst,columns=[\"Rec1\",\"Rec2\",\"Rec3\",\"Rec4\"],index=[\"ID\",\"NAME\"])\n",
    "print(df)"
   ]
  },
  {
   "cell_type": "code",
   "execution_count": 176,
   "id": "967f1580-0c13-43df-884c-956bc42c67ef",
   "metadata": {},
   "outputs": [
    {
     "name": "stdout",
     "output_type": "stream",
     "text": [
      "       ID NAME\n",
      "Rec1  100   RS\n",
      "Rec2  200   TR\n",
      "Rec3  300   JH\n",
      "Rec4  400   DR\n"
     ]
    }
   ],
   "source": [
    "lst=[[100,\"RS\"],[200,\"TR\"],[300,\"JH\"],[400,\"DR\"]]\n",
    "df=pd.DataFrame(lst,index=[\"Rec1\",\"Rec2\",\"Rec3\",\"Rec4\"],columns=[\"ID\",\"NAME\"])\n",
    "print(df)"
   ]
  },
  {
   "cell_type": "code",
   "execution_count": 182,
   "id": "7fcee379-81f1-4ac9-8ccf-0b8b80d68e48",
   "metadata": {},
   "outputs": [
    {
     "name": "stdout",
     "output_type": "stream",
     "text": [
      "       ID NAME\n",
      "Rec1  100   RS\n",
      "Rec2  200   TR\n",
      "Rec3  300   JH\n",
      "Rec4  400   DR\n"
     ]
    }
   ],
   "source": [
    "lst=[[100,\"RS\"],[200,\"TR\"],[300,\"JH\"],[400,\"DR\"]]\n",
    "df=pd.DataFrame(lst,index=[\"Rec\"+str(i) for i in range(1,5)],columns=[\"ID\",\"NAME\"])\n",
    "print(df)"
   ]
  },
  {
   "cell_type": "code",
   "execution_count": 193,
   "id": "176ba4ed-83df-48e7-a59b-47f3c3b4943d",
   "metadata": {},
   "outputs": [
    {
     "name": "stdout",
     "output_type": "stream",
     "text": [
      "              SBI  HDFC  ICICI\n",
      "CARLOAN       8.9   7.8    9.0\n",
      "HOMELOAN      7.8   7.2    9.5\n",
      "PERSONALLOAN  7.7   7.9   10.4\n"
     ]
    }
   ],
   "source": [
    "BL=[[8.9,7.8,9.0],[7.8,7.2,9.5],[7.7,7.9,10.4]]\n",
    "df=pd.DataFrame(BL,index=[\"CARLOAN\",\"HOMELOAN\",\"PERSONALLOAN\"],columns=[\"SBI\",\"HDFC\",\"ICICI\"])\n",
    "print(df)"
   ]
  },
  {
   "cell_type": "code",
   "execution_count": 195,
   "id": "38fd1218-0a4f-4dec-8f43-c2bff7549aa1",
   "metadata": {},
   "outputs": [
    {
     "name": "stdout",
     "output_type": "stream",
     "text": [
      "       CARLOAN  HOMELOAN  PERSONALLOAN\n",
      "SBI        8.9       7.8           9.0\n",
      "ICICI      7.8       7.2           9.5\n",
      "HDFC       7.7       7.9          10.4\n"
     ]
    }
   ],
   "source": [
    "BL=([8.9,7.8,9.0],(7.8,7.2,9.5),[7.7,7.9,10.4])\n",
    "df=pd.DataFrame(BL,index=[\"SBI\",\"ICICI\",\"HDFC\"],columns=[\"CARLOAN\",\"HOMELOAN\",\"PERSONALLOAN\"])\n",
    "print(df)"
   ]
  },
  {
   "cell_type": "code",
   "execution_count": 241,
   "id": "2a752f02-7d58-4b8f-931e-e54b4f2f0398",
   "metadata": {},
   "outputs": [
    {
     "name": "stdout",
     "output_type": "stream",
     "text": [
      "    a   b   c   d   e   f   g\n",
      "1  10  20  30  40  50  60  10\n",
      "2  10  20  30  40  50  60  10\n",
      "3  10  20  30  40  50  60  10\n"
     ]
    }
   ],
   "source": [
    "lst=[10,20,30,40,50,60,10],[10,20,30,40,50,60,10],[10,20,30,40,50,60,10]\n",
    "df=pd.DataFrame(lst,index=[1,2,3],columns=[\"a\",\"b\",\"c\",\"d\",\"e\",\"f\",\"g\"])\n",
    "print(df)"
   ]
  },
  {
   "cell_type": "code",
   "execution_count": 245,
   "id": "d34da17c-83ec-4d34-98e9-d441b64d4c95",
   "metadata": {},
   "outputs": [
    {
     "name": "stdout",
     "output_type": "stream",
     "text": [
      "        1  2    3     4       5\n",
      "1  Python  C  C++  Java  Kotlin\n"
     ]
    }
   ],
   "source": [
    "d={1:\"Python\",2:\"C\",3:\"C++\",4:\"Java\",5:\"Kotlin\"}\n",
    "df=pd.DataFrame(d,index=[1])\n",
    "print(df)"
   ]
  },
  {
   "cell_type": "code",
   "execution_count": 263,
   "id": "e202897e-be7a-4c6f-98a9-ec469cf7304c",
   "metadata": {},
   "outputs": [
    {
     "name": "stdout",
     "output_type": "stream",
     "text": [
      "      One Two Three\n",
      "1  Python   C   C++\n"
     ]
    }
   ],
   "source": [
    "d1={\"One\":\"Python\",\"Two\":\"C\",\"Three\":\"C++\"}\n",
    "df=pd.DataFrame(d1,index=[1])\n",
    "print(df)"
   ]
  },
  {
   "cell_type": "code",
   "execution_count": 265,
   "id": "e722f513-d544-4c82-bf36-5b9a36e909f4",
   "metadata": {},
   "outputs": [
    {
     "name": "stdout",
     "output_type": "stream",
     "text": [
      "              1  2    3     4       5\n",
      "Courses  Python  C  C++  Java  Kotlin\n"
     ]
    }
   ],
   "source": [
    "d={1:\"Python\",2:\"C\",3:\"C++\",4:\"Java\",5:\"Kotlin\"}\n",
    "df=pd.DataFrame(d,index=[\"Courses\"])\n",
    "print(df)"
   ]
  },
  {
   "cell_type": "code",
   "execution_count": 269,
   "id": "a1a2703c-eea7-4bdc-9bfc-bab96646923a",
   "metadata": {},
   "outputs": [
    {
     "name": "stdout",
     "output_type": "stream",
     "text": [
      "    Rank1 Rank2\n",
      "0  Python    on\n",
      "1     DSC   off\n"
     ]
    }
   ],
   "source": [
    "d={\"Rank1\":[\"Python\",\"DSC\"],\"Rank2\":[\"on\",\"off\"]}\n",
    "df=pd.DataFrame(d)\n",
    "print(df)"
   ]
  },
  {
   "cell_type": "code",
   "execution_count": 271,
   "id": "6d9f7bab-2f64-4224-b6f4-684839da07de",
   "metadata": {},
   "outputs": [
    {
     "name": "stdout",
     "output_type": "stream",
     "text": [
      "   SBI  ICICI  HDFC\n",
      "0  8.9    7.8   0.7\n",
      "1  7.8    7.2   7.9\n",
      "2  9.0    9.5  10.4\n"
     ]
    }
   ],
   "source": [
    "d={\"SBI\":(8.9,7.8,9.0),\"ICICI\":[7.8,7.2,9.5],\"HDFC\":(.7,7.9,10.4)}\n",
    "df=pd.DataFrame(d)\n",
    "print(df)"
   ]
  },
  {
   "cell_type": "code",
   "execution_count": 273,
   "id": "0f79b0d4-e129-458f-869c-0e7ac4089fda",
   "metadata": {},
   "outputs": [
    {
     "name": "stdout",
     "output_type": "stream",
     "text": [
      "              SBI  ICICI  HDFC\n",
      "CarLoan       8.9    7.8   0.7\n",
      "HomeLoan      7.8    7.2   7.9\n",
      "PersonalLoan  9.0    9.5  10.4\n"
     ]
    }
   ],
   "source": [
    "d={\"SBI\":(8.9,7.8,9.0),\"ICICI\":[7.8,7.2,9.5],\"HDFC\":(.7,7.9,10.4)}\n",
    "df=pd.DataFrame(d,index=[\"CarLoan\",\"HomeLoan\",\"PersonalLoan\"])\n",
    "print(df)"
   ]
  },
  {
   "cell_type": "code",
   "execution_count": null,
   "id": "18d62ea5-a570-4595-9c00-99e2e7bec07d",
   "metadata": {},
   "outputs": [],
   "source": []
  },
  {
   "cell_type": "code",
   "execution_count": null,
   "id": "d070dd7c-eb28-433e-a916-1ec02affb933",
   "metadata": {},
   "outputs": [],
   "source": []
  },
  {
   "cell_type": "code",
   "execution_count": null,
   "id": "41186485-bdca-40bb-bc58-ca12d0b5449f",
   "metadata": {},
   "outputs": [],
   "source": []
  },
  {
   "cell_type": "code",
   "execution_count": 43,
   "id": "1a434efc-396e-4a38-a98d-85a187e6090c",
   "metadata": {},
   "outputs": [
    {
     "name": "stdout",
     "output_type": "stream",
     "text": [
      "         Name  Age  Salary Department\n",
      "0    Person 1   22   45592  Marketing\n",
      "1    Person 2   26   84663         HR\n",
      "2    Person 3   48   57939    Finance\n",
      "3    Person 4   34   85078  Marketing\n",
      "4    Person 5   58   70937    Finance\n",
      "5    Person 6   30   66387    Finance\n",
      "6    Person 7   28   49032         IT\n",
      "7    Person 8   38   43380         IT\n",
      "8    Person 9   27   86885    Finance\n",
      "9   Person 10   23   87758         HR\n",
      "10  Person 11   27   85537         HR\n",
      "11  Person 12   23   46816         HR\n",
      "12  Person 13   51   53404         IT\n",
      "13  Person 14   45   76129  Marketing\n",
      "14  Person 15   37   71762    Finance\n",
      "15  Person 16   36   50367         HR\n",
      "16  Person 17   20   62867    Finance\n",
      "17  Person 18   55   46809         HR\n",
      "18  Person 19   37   30613    Finance\n",
      "19  Person 20   27   47292    Finance\n",
      "20  Person 21   31   74046         HR\n",
      "21  Person 22   40   53983         IT\n",
      "22  Person 23   33   46942         IT\n",
      "23  Person 24   40   94646         HR\n",
      "24  Person 25   40   51953  Marketing\n",
      "25  Person 26   54   80042         IT\n",
      "26  Person 27   49   35387         IT\n",
      "27  Person 28   51   63040         HR\n",
      "28  Person 29   43   42266    Finance\n",
      "29  Person 30   46   88882         IT\n",
      "30  Person 31   23   38233  Marketing\n",
      "31  Person 32   36   73382         HR\n",
      "32  Person 33   32   40215    Finance\n",
      "33  Person 34   43   57415  Marketing\n",
      "34  Person 35   20   49786    Finance\n",
      "35  Person 36   54   43671         IT\n",
      "36  Person 37   34   67235         IT\n",
      "37  Person 38   48   91140    Finance\n",
      "38  Person 39   36   88467         IT\n",
      "39  Person 40   53   52783         HR\n",
      "40  Person 41   38   81452         HR\n",
      "41  Person 42   24   51777    Finance\n",
      "42  Person 43   36   71637    Finance\n",
      "43  Person 44   44   42208         HR\n",
      "44  Person 45   47   33897         IT\n",
      "45  Person 46   36   71371         IT\n",
      "46  Person 47   48   98146         HR\n",
      "47  Person 48   50   40111         IT\n",
      "48  Person 49   58   50082    Finance\n",
      "49  Person 50   55   34827    Finance\n"
     ]
    }
   ],
   "source": [
    "import pandas as pd\n",
    "import numpy as np\n",
    "data = {\n",
    "    'Name': ['Person ' + str(i) for i in range(1, 51)], \n",
    "    'Age': np.random.randint(20, 60, size=50), \n",
    "    'Salary': np.random.randint(30000, 100000, size=50),  \n",
    "    'Department': np.random.choice(['IT', 'HR', 'Finance', 'Marketing'], size=50)  \n",
    "}\n",
    "df = pd.DataFrame(data)\n",
    "print(df)"
   ]
  }
 ],
 "metadata": {
  "kernelspec": {
   "display_name": "Python 3 (ipykernel)",
   "language": "python",
   "name": "python3"
  },
  "language_info": {
   "codemirror_mode": {
    "name": "ipython",
    "version": 3
   },
   "file_extension": ".py",
   "mimetype": "text/x-python",
   "name": "python",
   "nbconvert_exporter": "python",
   "pygments_lexer": "ipython3",
   "version": "3.12.4"
  }
 },
 "nbformat": 4,
 "nbformat_minor": 5
}
