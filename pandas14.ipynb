{
 "cells": [
  {
   "cell_type": "code",
   "execution_count": 1,
   "id": "912aaa3b-7680-4aaf-95d7-538161e572fc",
   "metadata": {},
   "outputs": [],
   "source": [
    "import numpy as np\n",
    "import pandas as pd"
   ]
  },
  {
   "cell_type": "code",
   "execution_count": 5,
   "id": "bba73a1e-ff80-4bda-b44b-d2b5623e944a",
   "metadata": {},
   "outputs": [
    {
     "name": "stdout",
     "output_type": "stream",
     "text": [
      "    htno     name  telugu  english  hindi  maths  science  social\n",
      "0    100   Ramesh      50       60     66     98       66      55\n",
      "1    101   Rajesh      45       67     34     67       66      78\n",
      "2    102   Rossum      56       88     56     99       44      77\n",
      "3    103     Raji      56       78     34     56       88      55\n",
      "4    104   Kalyan      51       63     62     93       67      51\n",
      "5    105  Karthik      48       62     39     68       65      88\n",
      "6    106   Kambli      53       81     59     92       48      73\n",
      "7    107  Praveen      46       88     74     86       78      45\n",
      "8    108   Ganesh      53       62     76     88       76      35\n",
      "9    109     Nags      55       77     44     77       86      58\n",
      "10   110    Biswa      66       48     86     95       48      47\n",
      "11   111   Ritchi      66       68     64     76       98      75\n",
      "12   104   Kalyan      51       63     62     93       67      51\n",
      "13   112  shareef      50       63     99     90       76      67\n",
      "14   113     sonu      60       89     98     87       77      68\n",
      "15   114   Rajesh      45       67     77     55       66      46\n",
      "16   115   Rakesh      67       78     88     78       67      49\n"
     ]
    }
   ],
   "source": [
    "df=pd.read_csv(\"C:\\\\Users\\\\Shreyas1\\\\all_data\\\\Pandas_code\\\\studentmarks1.csv\")\n",
    "print(df)"
   ]
  },
  {
   "cell_type": "code",
   "execution_count": null,
   "id": "da0b71e5-8a7b-46b5-9cb4-2b2b123bf2a8",
   "metadata": {},
   "outputs": [],
   "source": []
  }
 ],
 "metadata": {
  "kernelspec": {
   "display_name": "Python 3 (ipykernel)",
   "language": "python",
   "name": "python3"
  },
  "language_info": {
   "codemirror_mode": {
    "name": "ipython",
    "version": 3
   },
   "file_extension": ".py",
   "mimetype": "text/x-python",
   "name": "python",
   "nbconvert_exporter": "python",
   "pygments_lexer": "ipython3",
   "version": "3.12.4"
  }
 },
 "nbformat": 4,
 "nbformat_minor": 5
}
