{
 "cells": [
  {
   "cell_type": "code",
   "execution_count": 1,
   "id": "fd1e4049-a377-4001-9ca3-cedf82353c9c",
   "metadata": {},
   "outputs": [],
   "source": [
    "import numpy as np\n",
    "import pandas as pd"
   ]
  },
  {
   "cell_type": "code",
   "execution_count": 9,
   "id": "d141237a-0e6e-4a33-984f-a03ec6973594",
   "metadata": {},
   "outputs": [
    {
     "name": "stdout",
     "output_type": "stream",
     "text": [
      "Values of Series\n",
      "0    10\n",
      "1     2\n",
      "2    15\n",
      "3     3\n",
      "4    20\n",
      "5    -2\n",
      "6    17\n",
      "7    30\n",
      "8     0\n",
      "9    12\n",
      "dtype: int64\n",
      "============================\n",
      "Sorted values:\n",
      "2400938035200\n"
     ]
    }
   ],
   "source": [
    "s=pd.Series([10,2,15,3,20,-2,17,30,0,12])\n",
    "print(\"Values of Series\")\n",
    "print(s)\n",
    "print(\"============================\")\n",
    "print(\"Sorted values:\")\n",
    "s.sort_values()\n",
    "print(id(s))"
   ]
  },
  {
   "cell_type": "code",
   "execution_count": 13,
   "id": "a80cf76a-f04b-47bf-861b-d438224f2f41",
   "metadata": {},
   "outputs": [
    {
     "name": "stdout",
     "output_type": "stream",
     "text": [
      "5    -2\n",
      "8     0\n",
      "1     2\n",
      "3     3\n",
      "0    10\n",
      "9    12\n",
      "2    15\n",
      "6    17\n",
      "4    20\n",
      "7    30\n",
      "dtype: int64\n",
      "2400938035200\n"
     ]
    }
   ],
   "source": [
    "print(s)\n",
    "print(id(s))"
   ]
  },
  {
   "cell_type": "code",
   "execution_count": 17,
   "id": "7afa64e9-6104-4644-be69-6261936c1f22",
   "metadata": {},
   "outputs": [
    {
     "name": "stdout",
     "output_type": "stream",
     "text": [
      "2400938035200\n"
     ]
    }
   ],
   "source": [
    "s.sort_values(inplace=False)\n",
    "print(id(s))"
   ]
  },
  {
   "cell_type": "code",
   "execution_count": 19,
   "id": "1b7e8ece-2894-4482-988e-d6da01d53a34",
   "metadata": {},
   "outputs": [
    {
     "name": "stdout",
     "output_type": "stream",
     "text": [
      "Values of Series--Decending Order\n",
      "7    30\n",
      "4    20\n",
      "6    17\n",
      "2    15\n",
      "9    12\n",
      "0    10\n",
      "3     3\n",
      "1     2\n",
      "8     0\n",
      "5    -2\n",
      "dtype: int64\n"
     ]
    }
   ],
   "source": [
    "print(\"Values of Series--Decending Order\")\n",
    "print(s[::-1])"
   ]
  },
  {
   "cell_type": "code",
   "execution_count": 27,
   "id": "0ef10fbf-79b6-4c52-b038-2d4b73ef8862",
   "metadata": {},
   "outputs": [
    {
     "name": "stdout",
     "output_type": "stream",
     "text": [
      "Values of Series\n",
      "0    10\n",
      "1     2\n",
      "2    15\n",
      "3     3\n",
      "4    20\n",
      "5    -2\n",
      "6    17\n",
      "7    30\n",
      "8     0\n",
      "9    12\n",
      "dtype: int64\n"
     ]
    }
   ],
   "source": [
    "s=pd.Series([10,2,15,3,20,-2,17,30,0,12])\n",
    "print(\"Values of Series\")\n",
    "print(s)"
   ]
  },
  {
   "cell_type": "code",
   "execution_count": 31,
   "id": "13afde3f-230b-4ed0-924a-16cd4e73f356",
   "metadata": {},
   "outputs": [
    {
     "data": {
      "text/plain": [
       "7    30\n",
       "4    20\n",
       "6    17\n",
       "2    15\n",
       "9    12\n",
       "0    10\n",
       "3     3\n",
       "1     2\n",
       "8     0\n",
       "5    -2\n",
       "dtype: int64"
      ]
     },
     "execution_count": 31,
     "metadata": {},
     "output_type": "execute_result"
    }
   ],
   "source": [
    "s.sort_values(ascending=False)"
   ]
  },
  {
   "cell_type": "code",
   "execution_count": 33,
   "id": "2d6c9416-4d9a-466f-9f60-363293a702d5",
   "metadata": {},
   "outputs": [
    {
     "name": "stdout",
     "output_type": "stream",
     "text": [
      "0    10\n",
      "1     2\n",
      "2    15\n",
      "3     3\n",
      "4    20\n",
      "5    -2\n",
      "6    17\n",
      "7    30\n",
      "8     0\n",
      "9    12\n",
      "dtype: int64\n"
     ]
    }
   ],
   "source": [
    "print(s)"
   ]
  },
  {
   "cell_type": "code",
   "execution_count": 35,
   "id": "b103ed46-8218-4055-8ee5-f25e3c4f2d7c",
   "metadata": {},
   "outputs": [],
   "source": [
    "s.sort_values(ascending=True , inplace = True)"
   ]
  },
  {
   "cell_type": "code",
   "execution_count": 37,
   "id": "6c2a3be2-7121-41d0-9561-d9b5e5e4abc2",
   "metadata": {},
   "outputs": [
    {
     "name": "stdout",
     "output_type": "stream",
     "text": [
      "5    -2\n",
      "8     0\n",
      "1     2\n",
      "3     3\n",
      "0    10\n",
      "9    12\n",
      "2    15\n",
      "6    17\n",
      "4    20\n",
      "7    30\n",
      "dtype: int64\n"
     ]
    }
   ],
   "source": [
    "print(s)"
   ]
  },
  {
   "cell_type": "code",
   "execution_count": null,
   "id": "7f534e4a-3046-4421-95d4-f1483ff4936c",
   "metadata": {},
   "outputs": [],
   "source": []
  }
 ],
 "metadata": {
  "kernelspec": {
   "display_name": "Python 3 (ipykernel)",
   "language": "python",
   "name": "python3"
  },
  "language_info": {
   "codemirror_mode": {
    "name": "ipython",
    "version": 3
   },
   "file_extension": ".py",
   "mimetype": "text/x-python",
   "name": "python",
   "nbconvert_exporter": "python",
   "pygments_lexer": "ipython3",
   "version": "3.12.4"
  }
 },
 "nbformat": 4,
 "nbformat_minor": 5
}
