{
 "cells": [
  {
   "cell_type": "code",
   "execution_count": 1,
   "id": "c9c69c3b-cf69-47e5-bfc8-dc7977d24e6a",
   "metadata": {},
   "outputs": [],
   "source": [
    "import pandas as pd\n",
    "import numpy as np\n"
   ]
  },
  {
   "cell_type": "code",
   "execution_count": 3,
   "id": "99db80a7-f9ab-4b58-a64f-25172aae6034",
   "metadata": {},
   "outputs": [
    {
     "name": "stdout",
     "output_type": "stream",
     "text": [
      "Values of Series\n",
      "0     2\n",
      "1     4\n",
      "2     3\n",
      "3     1\n",
      "4     5\n",
      "5     2\n",
      "6     3\n",
      "7     2\n",
      "8     5\n",
      "9     1\n",
      "10    2\n",
      "dtype: int64\n"
     ]
    }
   ],
   "source": [
    "s=pd.Series([2,4,3,1,5,2,3,2,5,1,2])\n",
    "print(\"Values of Series\")\n",
    "print(s)"
   ]
  },
  {
   "cell_type": "code",
   "execution_count": 5,
   "id": "137bdb7e-13ec-4833-a212-4dac2cf3998d",
   "metadata": {},
   "outputs": [
    {
     "name": "stdout",
     "output_type": "stream",
     "text": [
      "List of Unique Values\n",
      "[2 4 3 1 5] <class 'numpy.ndarray'>\n",
      "-----------OR--------------\n",
      "2\n",
      "4\n",
      "3\n",
      "1\n",
      "5\n"
     ]
    }
   ],
   "source": [
    "a=s.unique()\n",
    "print(\"List of Unique Values\")\n",
    "print(a,type(a))\n",
    "print(\"-----------OR--------------\")\n",
    "for val in a:\n",
    "    print(val)"
   ]
  },
  {
   "cell_type": "code",
   "execution_count": 7,
   "id": "6b893b3a-8173-4699-aff3-b603b98b0754",
   "metadata": {},
   "outputs": [
    {
     "name": "stdout",
     "output_type": "stream",
     "text": [
      "Values of Series\n",
      "0     2\n",
      "1     4\n",
      "2     3\n",
      "3     1\n",
      "4     5\n",
      "5     2\n",
      "6     3\n",
      "7     2\n",
      "8     5\n",
      "9     1\n",
      "10    2\n",
      "dtype: int64\n",
      "----------------------------\n",
      "Number of Unique Values= 5\n"
     ]
    }
   ],
   "source": [
    "s=pd.Series([2,4,3,1,5,2,3,2,5,1,2])\n",
    "print(\"Values of Series\")\n",
    "print(s)\n",
    "print(\"----------------------------\")\n",
    "nou=s.nunique()\n",
    "print(\"Number of Unique Values=\",nou)"
   ]
  },
  {
   "cell_type": "code",
   "execution_count": 9,
   "id": "6ffd8e48-9679-46e3-a6d4-78a7d158127d",
   "metadata": {},
   "outputs": [
    {
     "name": "stdout",
     "output_type": "stream",
     "text": [
      "Values of Series\n",
      "0     2\n",
      "1     4\n",
      "2     3\n",
      "3     1\n",
      "4     5\n",
      "5     2\n",
      "6     3\n",
      "7     2\n",
      "8     5\n",
      "9     1\n",
      "10    2\n",
      "dtype: int64\n",
      "----------------------------\n"
     ]
    },
    {
     "data": {
      "text/plain": [
       "count    11.000000\n",
       "mean      2.727273\n",
       "std       1.420627\n",
       "min       1.000000\n",
       "25%       2.000000\n",
       "50%       2.000000\n",
       "75%       3.500000\n",
       "max       5.000000\n",
       "dtype: float64"
      ]
     },
     "execution_count": 9,
     "metadata": {},
     "output_type": "execute_result"
    }
   ],
   "source": [
    "s=pd.Series([2,4,3,1,5,2,3,2,5,1,2])\n",
    "print(\"Values of Series\")\n",
    "print(s)\n",
    "print(\"----------------------------\")\n",
    "s.describe()"
   ]
  },
  {
   "cell_type": "code",
   "execution_count": null,
   "id": "3f2836aa-3b75-4a28-83fa-8efe5d91b1e5",
   "metadata": {},
   "outputs": [],
   "source": []
  }
 ],
 "metadata": {
  "kernelspec": {
   "display_name": "Python 3 (ipykernel)",
   "language": "python",
   "name": "python3"
  },
  "language_info": {
   "codemirror_mode": {
    "name": "ipython",
    "version": 3
   },
   "file_extension": ".py",
   "mimetype": "text/x-python",
   "name": "python",
   "nbconvert_exporter": "python",
   "pygments_lexer": "ipython3",
   "version": "3.12.4"
  }
 },
 "nbformat": 4,
 "nbformat_minor": 5
}
