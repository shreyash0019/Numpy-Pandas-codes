{
 "cells": [
  {
   "cell_type": "code",
   "execution_count": 3,
   "id": "411fcc59-a4fa-441d-9a1b-ee6fccc78df4",
   "metadata": {},
   "outputs": [],
   "source": [
    "import numpy as np\n",
    "import pandas as pd"
   ]
  },
  {
   "cell_type": "code",
   "execution_count": 5,
   "id": "45e388f6-bfd2-4508-b03e-f229e081ab34",
   "metadata": {},
   "outputs": [
    {
     "name": "stdout",
     "output_type": "stream",
     "text": [
      "Values of Series\n",
      "0     10\n",
      "1     20\n",
      "2     10\n",
      "3     20\n",
      "4     30\n",
      "5     15\n",
      "6     10\n",
      "7     20\n",
      "8     15\n",
      "9     17\n",
      "10    15\n",
      "11    34\n",
      "12    25\n",
      "13    12\n",
      "dtype: int64\n",
      "largest value : \n",
      "11    34\n",
      "4     30\n",
      "12    25\n",
      "1     20\n",
      "3     20\n",
      "dtype: int64\n",
      "---------------------------------\n",
      "smallest value : \n",
      "0     10\n",
      "2     10\n",
      "6     10\n",
      "13    12\n",
      "5     15\n",
      "dtype: int64\n"
     ]
    }
   ],
   "source": [
    "s=pd.Series([10,20,10,20,30,15,10,20,15,17,15,34,25,12])\n",
    "print(\"Values of Series\")\n",
    "print(s)\n",
    "print(\"largest value : \")\n",
    "print(s.nlargest())\n",
    "print(\"---------------------------------\")\n",
    "print(\"smallest value : \")\n",
    "print(s.nsmallest())"
   ]
  },
  {
   "cell_type": "code",
   "execution_count": 7,
   "id": "91462b15-23d0-41e9-b1fa-51a338b7ee56",
   "metadata": {},
   "outputs": [
    {
     "data": {
      "text/plain": [
       "0    10\n",
       "dtype: int64"
      ]
     },
     "execution_count": 7,
     "metadata": {},
     "output_type": "execute_result"
    }
   ],
   "source": [
    "s.nsmallest(2).head(1)"
   ]
  },
  {
   "cell_type": "code",
   "execution_count": 13,
   "id": "b9f31b4d-6c06-4396-a285-e501553b3e68",
   "metadata": {},
   "outputs": [
    {
     "data": {
      "text/plain": [
       "11    34\n",
       "4     30\n",
       "12    25\n",
       "1     20\n",
       "3     20\n",
       "7     20\n",
       "9     17\n",
       "dtype: int64"
      ]
     },
     "execution_count": 13,
     "metadata": {},
     "output_type": "execute_result"
    }
   ],
   "source": [
    "s.nlargest(7)"
   ]
  },
  {
   "cell_type": "code",
   "execution_count": 20,
   "id": "c3e0c115-4734-485f-9f49-6b27eebe4a48",
   "metadata": {},
   "outputs": [
    {
     "name": "stdout",
     "output_type": "stream",
     "text": [
      "Given Temp\n",
      "Mon    22\n",
      "Tue    24\n",
      "Wed    27\n",
      "Thu    25\n",
      "Fri    23\n",
      "Sat    21\n",
      "Sun    26\n",
      "dtype: int64\n"
     ]
    }
   ],
   "source": [
    "temp=pd.Series([22,24,27,25,23,21,26],index=[\"Mon\",\"Tue\",\"Wed\",\"Thu\",\"Fri\",\"Sat\",\"Sun\"])\n",
    "print(\"Given Temp\")\n",
    "print(temp)"
   ]
  },
  {
   "cell_type": "code",
   "execution_count": 32,
   "id": "6b5e6eac-1113-4443-993b-557281f85225",
   "metadata": {},
   "outputs": [
    {
     "name": "stdout",
     "output_type": "stream",
     "text": [
      "Given Temp\n",
      "Mon    24\n",
      "Tue    26\n",
      "Wed    29\n",
      "Thu    27\n",
      "Fri    25\n",
      "Sat    23\n",
      "Sun    28\n",
      "dtype: int64\n",
      "-------------------------------\n",
      "All Days Average Temp= 26.0\n",
      "-------------------------------\n",
      "Difference Between each day's Temparature  and the Weekly Average Temparature \n",
      "Mon   -2.0\n",
      "Tue    0.0\n",
      "Wed    3.0\n",
      "Thu    1.0\n",
      "Fri   -1.0\n",
      "Sat   -3.0\n",
      "Sun    2.0\n",
      "dtype: float64\n",
      "-------------------------------\n",
      "Mon    24\n",
      "Tue    26\n",
      "Wed    29\n",
      "Thu    27\n",
      "Fri    25\n",
      "Sat    23\n",
      "Sun    28\n",
      "dtype: int64\n",
      "-------------------------------\n",
      "Given Temp after increase by 2 Degrees\n",
      "Mon    24\n",
      "Tue    26\n",
      "Wed    29\n",
      "Thu    27\n",
      "Fri    25\n",
      "Sat    23\n",
      "Sun    28\n",
      "dtype: int64\n",
      "-------------------------------\n",
      "All Days Average Temp= 26.0\n",
      "-------------------------------\n",
      "Difference Between each day's Temparature  and the Weekly Average Temparature \n",
      "Mon   -2.0\n",
      "Tue    0.0\n",
      "Wed    3.0\n",
      "Thu    1.0\n",
      "Fri   -1.0\n",
      "Sat   -3.0\n",
      "Sun    2.0\n",
      "dtype: float64\n"
     ]
    }
   ],
   "source": [
    "print(\"Given Temp\")\n",
    "print(temp)\n",
    "print(\"-------------------------------\")\n",
    "avgtemp=temp.mean()\n",
    "print(\"All Days Average Temp=\",avgtemp)\n",
    "print(\"-------------------------------\")\n",
    "difftemp=temp-avgtemp\n",
    "print(\"Difference Between each day's Temparature  and the Weekly Average Temparature \")\n",
    "print(difftemp)\n",
    "print(\"-------------------------------\")\n",
    "temp=pd.Series([22,24,27,25,23,21,26],index=[\"Mon\",\"Tue\",\"Wed\",\"Thu\",\"Fri\",\"Sat\",\"Sun\"])\n",
    "temp=temp+2\n",
    "print(temp)\n",
    "print(\"-------------------------------\")\n",
    "print(\"Given Temp after increase by 2 Degrees\")\n",
    "print(temp)\n",
    "print(\"-------------------------------\")\n",
    "avgtemp=temp.mean()\n",
    "print(\"All Days Average Temp=\",avgtemp)\n",
    "print(\"-------------------------------\")\n",
    "difftemp=temp-avgtemp\n",
    "print(\"Difference Between each day's Temparature  and the Weekly Average Temparature \")\n",
    "print(difftemp)"
   ]
  },
  {
   "cell_type": "code",
   "execution_count": 34,
   "id": "6e3c4fa8-b84b-44ea-9151-a8a51b5f7fc2",
   "metadata": {},
   "outputs": [
    {
     "name": "stdout",
     "output_type": "stream",
     "text": [
      "Given Temp\n",
      "Mon    22\n",
      "Tue    24\n",
      "Wed    27\n",
      "Thu    25\n",
      "Fri    23\n",
      "Sat    21\n",
      "Sun    26\n",
      "dtype: int64\n"
     ]
    }
   ],
   "source": [
    "temp=pd.Series([22,24,27,25,23,21,26],index=[\"Mon\",\"Tue\",\"Wed\",\"Thu\",\"Fri\",\"Sat\",\"Sun\"])\n",
    "print(\"Given Temp\")\n",
    "print(temp)\n"
   ]
  },
  {
   "cell_type": "code",
   "execution_count": 36,
   "id": "9cce9ad4-f2cd-42c4-a77e-4e4b5b4793c0",
   "metadata": {},
   "outputs": [
    {
     "name": "stdout",
     "output_type": "stream",
     "text": [
      "All Days Average Temp= 24.0\n"
     ]
    }
   ],
   "source": [
    "avgtemp=temp.mean()\n",
    "print(\"All Days Average Temp=\",avgtemp)"
   ]
  },
  {
   "cell_type": "code",
   "execution_count": 38,
   "id": "a3dccc1e-cb0f-4796-b27d-90fe9305b62e",
   "metadata": {},
   "outputs": [
    {
     "name": "stdout",
     "output_type": "stream",
     "text": [
      "Difference Between each day's Temparature  and the Weekly Average Temparature \n",
      "Mon   -2.0\n",
      "Tue    0.0\n",
      "Wed    3.0\n",
      "Thu    1.0\n",
      "Fri   -1.0\n",
      "Sat   -3.0\n",
      "Sun    2.0\n",
      "dtype: float64\n"
     ]
    }
   ],
   "source": [
    "difftemp=temp-avgtemp\n",
    "print(\"Difference Between each day's Temparature  and the Weekly Average Temparature \")\n",
    "print(difftemp)"
   ]
  },
  {
   "cell_type": "code",
   "execution_count": 40,
   "id": "b83ac79e-e658-4abb-9ec8-3811aac8a204",
   "metadata": {},
   "outputs": [
    {
     "name": "stdout",
     "output_type": "stream",
     "text": [
      "Given Temp\n",
      "Mon    22\n",
      "Tue    24\n",
      "Wed    27\n",
      "Thu    25\n",
      "Fri    23\n",
      "Sat    21\n",
      "Sun    26\n",
      "dtype: int64\n",
      "Given Temp after increase by 2 Degrees\n",
      "Mon    24\n",
      "Tue    26\n",
      "Wed    29\n",
      "Thu    27\n",
      "Fri    25\n",
      "Sat    23\n",
      "Sun    28\n",
      "dtype: int64\n"
     ]
    }
   ],
   "source": [
    "temp=pd.Series([22,24,27,25,23,21,26],index=[\"Mon\",\"Tue\",\"Wed\",\"Thu\",\"Fri\",\"Sat\",\"Sun\"])\n",
    "print(\"Given Temp\")\n",
    "print(temp)\n",
    "temp=temp+2\n",
    "print(\"Given Temp after increase by 2 Degrees\")\n",
    "print(temp)"
   ]
  },
  {
   "cell_type": "code",
   "execution_count": 42,
   "id": "c053ece3-d89a-4d55-b2be-cb437bea6069",
   "metadata": {},
   "outputs": [
    {
     "name": "stdout",
     "output_type": "stream",
     "text": [
      "All Days Average Temp= 26.0\n"
     ]
    }
   ],
   "source": [
    "avgtemp=temp.mean()\n",
    "print(\"All Days Average Temp=\",avgtemp)"
   ]
  },
  {
   "cell_type": "code",
   "execution_count": 44,
   "id": "8b31071d-0ebd-46d8-b169-b18f588eed36",
   "metadata": {},
   "outputs": [
    {
     "name": "stdout",
     "output_type": "stream",
     "text": [
      "Difference Between each day's Temparature  and the Weekly Average Temparature \n",
      "Mon   -2.0\n",
      "Tue    0.0\n",
      "Wed    3.0\n",
      "Thu    1.0\n",
      "Fri   -1.0\n",
      "Sat   -3.0\n",
      "Sun    2.0\n",
      "dtype: float64\n"
     ]
    }
   ],
   "source": [
    "difftemp=temp-avgtemp\n",
    "print(\"Difference Between each day's Temparature  and the Weekly Average Temparature \")\n",
    "print(difftemp)"
   ]
  },
  {
   "cell_type": "code",
   "execution_count": 48,
   "id": "03364f50-6e80-4e3a-9e77-3294c8929900",
   "metadata": {},
   "outputs": [
    {
     "name": "stdout",
     "output_type": "stream",
     "text": [
      "count     7.000000\n",
      "mean     26.000000\n",
      "std       2.160247\n",
      "min      23.000000\n",
      "25%      24.500000\n",
      "50%      26.000000\n",
      "75%      27.500000\n",
      "max      29.000000\n",
      "dtype: float64\n"
     ]
    }
   ],
   "source": [
    "print(temp.describe())"
   ]
  },
  {
   "cell_type": "code",
   "execution_count": 52,
   "id": "de5ebafc-f3e2-44a8-8410-01e1c14b6490",
   "metadata": {},
   "outputs": [
    {
     "name": "stdout",
     "output_type": "stream",
     "text": [
      "29\n"
     ]
    }
   ],
   "source": [
    "print(temp.max())"
   ]
  },
  {
   "cell_type": "code",
   "execution_count": 54,
   "id": "70f827dd-f4be-4ae3-b5ec-22c2f51e2d94",
   "metadata": {},
   "outputs": [
    {
     "name": "stdout",
     "output_type": "stream",
     "text": [
      "23\n"
     ]
    }
   ],
   "source": [
    "print(temp.min())"
   ]
  },
  {
   "cell_type": "code",
   "execution_count": 56,
   "id": "d92b242f-b5fc-44d5-ba72-9d02afe17ab6",
   "metadata": {},
   "outputs": [
    {
     "name": "stdout",
     "output_type": "stream",
     "text": [
      "26.0\n"
     ]
    }
   ],
   "source": [
    "print(temp.mean())"
   ]
  },
  {
   "cell_type": "code",
   "execution_count": 58,
   "id": "5ad2b71d-5ee9-4d85-add5-5f23ae4552aa",
   "metadata": {},
   "outputs": [
    {
     "name": "stdout",
     "output_type": "stream",
     "text": [
      "26.0\n"
     ]
    }
   ],
   "source": [
    "print(temp.median())"
   ]
  },
  {
   "cell_type": "code",
   "execution_count": 62,
   "id": "856851cc-6032-49f7-ac40-1defd056e550",
   "metadata": {},
   "outputs": [
    {
     "name": "stdout",
     "output_type": "stream",
     "text": [
      "4.666666666666667\n"
     ]
    }
   ],
   "source": [
    "print(temp.var())"
   ]
  },
  {
   "cell_type": "code",
   "execution_count": 64,
   "id": "d0dff2f7-7732-4c45-b6bb-2b0ee6c674e6",
   "metadata": {},
   "outputs": [
    {
     "name": "stdout",
     "output_type": "stream",
     "text": [
      "2.160246899469287\n"
     ]
    }
   ],
   "source": [
    "print(temp.std())"
   ]
  },
  {
   "cell_type": "code",
   "execution_count": 66,
   "id": "a5753d3e-549e-4a02-8c72-1107ad0e2e81",
   "metadata": {},
   "outputs": [
    {
     "name": "stdout",
     "output_type": "stream",
     "text": [
      "[24 26 29 27 25 23 28]\n"
     ]
    }
   ],
   "source": [
    "print(temp.unique())"
   ]
  },
  {
   "cell_type": "code",
   "execution_count": 70,
   "id": "ed44d025-86cb-4076-ae45-31783feef24d",
   "metadata": {},
   "outputs": [
    {
     "name": "stdout",
     "output_type": "stream",
     "text": [
      "7\n"
     ]
    }
   ],
   "source": [
    "print(temp.nunique())"
   ]
  },
  {
   "cell_type": "code",
   "execution_count": 96,
   "id": "9bda9288-8854-480b-9734-6f412c3d282b",
   "metadata": {},
   "outputs": [
    {
     "name": "stdout",
     "output_type": "stream",
     "text": [
      "[29 28 27 26 25 24 23]\n"
     ]
    }
   ],
   "source": [
    "print(temp.unique())\n",
    "temp.sort_values(ascending=False,inplace=True)"
   ]
  },
  {
   "cell_type": "code",
   "execution_count": 98,
   "id": "bfe9869b-7a9d-453a-bfe3-cb6b8fa5de54",
   "metadata": {},
   "outputs": [
    {
     "name": "stdout",
     "output_type": "stream",
     "text": [
      "Wed    29\n",
      "Sun    28\n",
      "Thu    27\n",
      "Tue    26\n",
      "Fri    25\n",
      "Mon    24\n",
      "Sat    23\n",
      "dtype: int64\n"
     ]
    }
   ],
   "source": [
    "print(temp)"
   ]
  },
  {
   "cell_type": "code",
   "execution_count": 102,
   "id": "5974f70e-b550-4b32-8751-9f009d3ef4e7",
   "metadata": {},
   "outputs": [
    {
     "name": "stdout",
     "output_type": "stream",
     "text": [
      "Sat    23\n",
      "Mon    24\n",
      "Fri    25\n",
      "Tue    26\n",
      "Thu    27\n",
      "Sun    28\n",
      "Wed    29\n",
      "dtype: int64\n"
     ]
    }
   ],
   "source": [
    "temp.sort_values(ascending=True,inplace=True)\n",
    "print(temp)"
   ]
  },
  {
   "cell_type": "code",
   "execution_count": 106,
   "id": "17510359-38b7-406b-a6a8-c140822f95b8",
   "metadata": {},
   "outputs": [
    {
     "data": {
      "text/plain": [
       "Sat    23\n",
       "Mon    24\n",
       "Fri    25\n",
       "Tue    26\n",
       "Thu    27\n",
       "Sun    28\n",
       "Wed    29\n",
       "dtype: int64"
      ]
     },
     "execution_count": 106,
     "metadata": {},
     "output_type": "execute_result"
    }
   ],
   "source": [
    "temp.sort_values(ascending=True,inplace=False)\n"
   ]
  },
  {
   "cell_type": "code",
   "execution_count": 108,
   "id": "bb2041c5-2730-4a9b-b584-e58282f4473f",
   "metadata": {},
   "outputs": [
    {
     "name": "stdout",
     "output_type": "stream",
     "text": [
      "Sat    23\n",
      "Mon    24\n",
      "Fri    25\n",
      "Tue    26\n",
      "Thu    27\n",
      "Sun    28\n",
      "Wed    29\n",
      "dtype: int64\n"
     ]
    }
   ],
   "source": [
    "print(temp)"
   ]
  },
  {
   "cell_type": "code",
   "execution_count": 114,
   "id": "257ac7f3-165a-42b0-9448-6ea116e7aa2a",
   "metadata": {},
   "outputs": [
    {
     "data": {
      "text/plain": [
       "Wed    29\n",
       "Sun    28\n",
       "Thu    27\n",
       "Tue    26\n",
       "Fri    25\n",
       "Mon    24\n",
       "Sat    23\n",
       "dtype: int64"
      ]
     },
     "execution_count": 114,
     "metadata": {},
     "output_type": "execute_result"
    }
   ],
   "source": [
    "temp.sort_values(ascending=False,inplace=False)"
   ]
  },
  {
   "cell_type": "code",
   "execution_count": 112,
   "id": "a8c135c0-3cb5-476c-b3ef-0c030d556d62",
   "metadata": {},
   "outputs": [
    {
     "name": "stdout",
     "output_type": "stream",
     "text": [
      "Wed    29\n",
      "Sun    28\n",
      "Thu    27\n",
      "Tue    26\n",
      "Fri    25\n",
      "Mon    24\n",
      "Sat    23\n",
      "dtype: int64\n"
     ]
    }
   ],
   "source": [
    "print(temp)"
   ]
  },
  {
   "cell_type": "code",
   "execution_count": null,
   "id": "8411810c-1b0e-495a-b8d1-0eb9f165d621",
   "metadata": {},
   "outputs": [],
   "source": []
  }
 ],
 "metadata": {
  "kernelspec": {
   "display_name": "Python 3 (ipykernel)",
   "language": "python",
   "name": "python3"
  },
  "language_info": {
   "codemirror_mode": {
    "name": "ipython",
    "version": 3
   },
   "file_extension": ".py",
   "mimetype": "text/x-python",
   "name": "python",
   "nbconvert_exporter": "python",
   "pygments_lexer": "ipython3",
   "version": "3.12.4"
  }
 },
 "nbformat": 4,
 "nbformat_minor": 5
}
