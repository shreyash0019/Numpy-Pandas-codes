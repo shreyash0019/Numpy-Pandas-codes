{
 "cells": [
  {
   "cell_type": "code",
   "execution_count": 1,
   "id": "86a0aa4c-ef64-4134-aa45-1c74cd80e04c",
   "metadata": {},
   "outputs": [],
   "source": [
    "import numpy as np\n",
    "import pandas as pd"
   ]
  },
  {
   "cell_type": "code",
   "execution_count": 19,
   "id": "18a1c3a2-dca8-41cf-9f70-95f9106f8a1b",
   "metadata": {},
   "outputs": [
    {
     "name": "stdout",
     "output_type": "stream",
     "text": [
      "      s\n",
      "1   101\n",
      "2   102\n",
      "3   103\n",
      "4   104\n",
      "5   105\n",
      "6   106\n",
      "7   107\n",
      "8   108\n",
      "9   109\n",
      "10  110\n",
      "11  111\n",
      "12  112\n",
      "13  113\n",
      "14  114\n",
      "15  115\n",
      "16  116\n",
      "17  117\n",
      "18  118\n",
      "19  119\n",
      "20  120\n",
      "21  121\n",
      "22  122\n",
      "23  123\n",
      "24  124\n",
      "25  125\n",
      "26  126\n",
      "27  127\n",
      "28  128\n",
      "29  129\n",
      "30  130\n"
     ]
    }
   ],
   "source": [
    "a = [101,102,103,104,105,106,107,108,109,110,111,112,113,114,115,116,117,118,119,120,121,122,123,124,125,126,127,128,129,130]\n",
    "df=pd.DataFrame(a,index=[val for val in range(1,31)],columns=['s'])\n",
    "print(df)"
   ]
  },
  {
   "cell_type": "code",
   "execution_count": 23,
   "id": "72e5bbe8-5f2f-4d21-8dd6-57768d812e18",
   "metadata": {},
   "outputs": [
    {
     "name": "stdout",
     "output_type": "stream",
     "text": [
      "            Car Name  Car ID        Car Model    Car Colour  Year  Price\n",
      "0       Toyota Camry       1         Camry LE          Blue  2020  24000\n",
      "1       Honda Accord       2        Accord LX         Black  2019  23000\n",
      "2       Ford Mustang       3       Mustang GT           Red  2021  35000\n",
      "3   Chevrolet Malibu       4        Malibu LT        Silver  2018  22000\n",
      "4      Nissan Altima       5      Altima 2.5S         White  2020  24000\n",
      "5       BMW 3 Series       6             330i  Mineral Grey  2021  41000\n",
      "6            Audi A4       7  A4 Premium Plus         Black  2022  45000\n",
      "7     Hyundai Sonata       8       Sonata SEL          Blue  2020  23000\n",
      "8         Kia Optima       9        Optima EX           Red  2019  21000\n",
      "9  Volkswagen Passat      10        Passat SE        Silver  2021  25000\n"
     ]
    }
   ],
   "source": [
    "columns = ['Car Name', 'Car ID', 'Car Model', 'Car Colour', 'Year', 'Price']\n",
    "car_data = [\n",
    "    ('Toyota Camry', 1, 'Camry LE', 'Blue', 2020, 24000),\n",
    "    ('Honda Accord', 2, 'Accord LX', 'Black', 2019, 23000),\n",
    "    ('Ford Mustang', 3, 'Mustang GT', 'Red', 2021, 35000),\n",
    "    ('Chevrolet Malibu', 4, 'Malibu LT', 'Silver', 2018, 22000),\n",
    "    ('Nissan Altima', 5, 'Altima 2.5S', 'White', 2020, 24000),\n",
    "    ('BMW 3 Series', 6, '330i', 'Mineral Grey', 2021, 41000),\n",
    "    ('Audi A4', 7, 'A4 Premium Plus', 'Black', 2022, 45000),\n",
    "    ('Hyundai Sonata', 8, 'Sonata SEL', 'Blue', 2020, 23000),\n",
    "    ('Kia Optima', 9, 'Optima EX', 'Red', 2019, 21000),\n",
    "    ('Volkswagen Passat', 10, 'Passat SE', 'Silver', 2021, 25000)\n",
    "]\n",
    "\n",
    "df = pd.DataFrame(car_data,columns=columns)\n",
    "print(df)"
   ]
  },
  {
   "cell_type": "code",
   "execution_count": 25,
   "id": "b657d882-1a36-4d8c-b49d-f79cf9ff6347",
   "metadata": {},
   "outputs": [
    {
     "name": "stdout",
     "output_type": "stream",
     "text": [
      "60\n"
     ]
    }
   ],
   "source": [
    "print(df.size)"
   ]
  },
  {
   "cell_type": "code",
   "execution_count": 27,
   "id": "96ac4c31-d87a-4bae-9718-1560eaa57dd5",
   "metadata": {},
   "outputs": [
    {
     "name": "stdout",
     "output_type": "stream",
     "text": [
      "(10, 6)\n"
     ]
    }
   ],
   "source": [
    "print(df.shape)"
   ]
  },
  {
   "cell_type": "code",
   "execution_count": 29,
   "id": "11d4d729-8aa5-44a5-b4f8-ee1207c3ab82",
   "metadata": {},
   "outputs": [
    {
     "name": "stdout",
     "output_type": "stream",
     "text": [
      "2\n"
     ]
    }
   ],
   "source": [
    "print(df.ndim)"
   ]
  },
  {
   "cell_type": "code",
   "execution_count": 31,
   "id": "ecae25ff-7589-45a4-8de5-fa09021c6f68",
   "metadata": {},
   "outputs": [
    {
     "name": "stdout",
     "output_type": "stream",
     "text": [
      "False\n"
     ]
    }
   ],
   "source": [
    "print(df.empty)"
   ]
  },
  {
   "cell_type": "code",
   "execution_count": 33,
   "id": "9eabd8d5-c52e-4565-be9a-ee15ecfd5863",
   "metadata": {},
   "outputs": [
    {
     "name": "stdout",
     "output_type": "stream",
     "text": [
      "[['Toyota Camry' 1 'Camry LE' 'Blue' 2020 24000]\n",
      " ['Honda Accord' 2 'Accord LX' 'Black' 2019 23000]\n",
      " ['Ford Mustang' 3 'Mustang GT' 'Red' 2021 35000]\n",
      " ['Chevrolet Malibu' 4 'Malibu LT' 'Silver' 2018 22000]\n",
      " ['Nissan Altima' 5 'Altima 2.5S' 'White' 2020 24000]\n",
      " ['BMW 3 Series' 6 '330i' 'Mineral Grey' 2021 41000]\n",
      " ['Audi A4' 7 'A4 Premium Plus' 'Black' 2022 45000]\n",
      " ['Hyundai Sonata' 8 'Sonata SEL' 'Blue' 2020 23000]\n",
      " ['Kia Optima' 9 'Optima EX' 'Red' 2019 21000]\n",
      " ['Volkswagen Passat' 10 'Passat SE' 'Silver' 2021 25000]]\n"
     ]
    }
   ],
   "source": [
    "print(df.values)"
   ]
  },
  {
   "cell_type": "code",
   "execution_count": 37,
   "id": "26682f3f-f447-421b-afd6-087424819873",
   "metadata": {},
   "outputs": [
    {
     "name": "stdout",
     "output_type": "stream",
     "text": [
      "            Car Name  Car ID        Car Model    Car Colour  Year  Price\n",
      "0       Toyota Camry       1         Camry LE          Blue  2020  24000\n",
      "1       Honda Accord       2        Accord LX         Black  2019  23000\n",
      "2       Ford Mustang       3       Mustang GT           Red  2021  35000\n",
      "3   Chevrolet Malibu       4        Malibu LT        Silver  2018  22000\n",
      "4      Nissan Altima       5      Altima 2.5S         White  2020  24000\n",
      "5       BMW 3 Series       6             330i  Mineral Grey  2021  41000\n",
      "6            Audi A4       7  A4 Premium Plus         Black  2022  45000\n",
      "7     Hyundai Sonata       8       Sonata SEL          Blue  2020  23000\n",
      "8         Kia Optima       9        Optima EX           Red  2019  21000\n",
      "9  Volkswagen Passat      10        Passat SE        Silver  2021  25000\n",
      "RangeIndex(start=0, stop=10, step=1)\n",
      "Index(['Car Name', 'Car ID', 'Car Model', 'Car Colour', 'Year', 'Price'], dtype='object')\n"
     ]
    }
   ],
   "source": [
    "print (df)\n",
    "for axis in df.axes:\n",
    "    print(axis)"
   ]
  },
  {
   "cell_type": "code",
   "execution_count": 63,
   "id": "408f6233-953a-4556-a1d6-99abff7ffd6e",
   "metadata": {},
   "outputs": [
    {
     "name": "stdout",
     "output_type": "stream",
     "text": [
      "     Car Name  Car ID  Car Model Car Colour  Year  Price\n",
      "8  Kia Optima       9  Optima EX        Red  2019  21000\n"
     ]
    }
   ],
   "source": [
    "print(df.nsmallest(1,'Price'))"
   ]
  },
  {
   "cell_type": "code",
   "execution_count": 65,
   "id": "9bd55670-d9d7-4ea5-bd2c-9f399b8a80fb",
   "metadata": {},
   "outputs": [
    {
     "name": "stdout",
     "output_type": "stream",
     "text": [
      "       Car Name  Car ID        Car Model    Car Colour  Year  Price\n",
      "6       Audi A4       7  A4 Premium Plus         Black  2022  45000\n",
      "5  BMW 3 Series       6             330i  Mineral Grey  2021  41000\n"
     ]
    }
   ],
   "source": [
    "print(df.nlargest(2,'Price'))"
   ]
  },
  {
   "cell_type": "code",
   "execution_count": 69,
   "id": "ac667204-e9ba-4b16-9b15-c2afee1dc1f7",
   "metadata": {},
   "outputs": [
    {
     "name": "stdout",
     "output_type": "stream",
     "text": [
      "       Car Name  Car ID Car Model Car Colour  Year  Price\n",
      "0  Toyota Camry       1  Camry LE       Blue  2020  24000\n"
     ]
    }
   ],
   "source": [
    "print(df.head(1))"
   ]
  },
  {
   "cell_type": "code",
   "execution_count": 73,
   "id": "9cb167c8-59c1-4a0e-bfc5-3337976c15d5",
   "metadata": {},
   "outputs": [
    {
     "name": "stdout",
     "output_type": "stream",
     "text": [
      "            Car Name  Car ID        Car Model    Car Colour  Year  Price\n",
      "9  Volkswagen Passat      10        Passat SE        Silver  2021  25000\n",
      "8         Kia Optima       9        Optima EX           Red  2019  21000\n",
      "7     Hyundai Sonata       8       Sonata SEL          Blue  2020  23000\n",
      "6            Audi A4       7  A4 Premium Plus         Black  2022  45000\n",
      "5       BMW 3 Series       6             330i  Mineral Grey  2021  41000\n",
      "4      Nissan Altima       5      Altima 2.5S         White  2020  24000\n",
      "3   Chevrolet Malibu       4        Malibu LT        Silver  2018  22000\n",
      "2       Ford Mustang       3       Mustang GT           Red  2021  35000\n",
      "1       Honda Accord       2        Accord LX         Black  2019  23000\n",
      "0       Toyota Camry       1         Camry LE          Blue  2020  24000\n"
     ]
    }
   ],
   "source": [
    "print(df[::-1])"
   ]
  },
  {
   "cell_type": "code",
   "execution_count": 91,
   "id": "f4bf3a7e-e341-4537-8459-16e34655f121",
   "metadata": {},
   "outputs": [
    {
     "name": "stdout",
     "output_type": "stream",
     "text": [
      "            Car Name  Car ID        Car Model    Car Colour  Year  Price\n",
      "8         Kia Optima       9        Optima EX           Red  2019  21000\n",
      "3   Chevrolet Malibu       4        Malibu LT        Silver  2018  22000\n",
      "1       Honda Accord       2        Accord LX         Black  2019  23000\n",
      "7     Hyundai Sonata       8       Sonata SEL          Blue  2020  23000\n",
      "0       Toyota Camry       1         Camry LE          Blue  2020  24000\n",
      "4      Nissan Altima       5      Altima 2.5S         White  2020  24000\n",
      "9  Volkswagen Passat      10        Passat SE        Silver  2021  25000\n",
      "2       Ford Mustang       3       Mustang GT           Red  2021  35000\n",
      "5       BMW 3 Series       6             330i  Mineral Grey  2021  41000\n",
      "6            Audi A4       7  A4 Premium Plus         Black  2022  45000\n"
     ]
    }
   ],
   "source": [
    "print(df.sort_values('Price'))"
   ]
  },
  {
   "cell_type": "code",
   "execution_count": 93,
   "id": "9b3559d3-dcfc-408c-869f-f1ba2a91cdd0",
   "metadata": {},
   "outputs": [
    {
     "name": "stdout",
     "output_type": "stream",
     "text": [
      "            Car Name  Car ID        Car Model    Car Colour  Year  Price\n",
      "0       Toyota Camry       1         Camry LE          Blue  2020  24000\n",
      "1       Honda Accord       2        Accord LX         Black  2019  23000\n",
      "2       Ford Mustang       3       Mustang GT           Red  2021  35000\n",
      "3   Chevrolet Malibu       4        Malibu LT        Silver  2018  22000\n",
      "4      Nissan Altima       5      Altima 2.5S         White  2020  24000\n",
      "5       BMW 3 Series       6             330i  Mineral Grey  2021  41000\n",
      "6            Audi A4       7  A4 Premium Plus         Black  2022  45000\n",
      "7     Hyundai Sonata       8       Sonata SEL          Blue  2020  23000\n",
      "8         Kia Optima       9        Optima EX           Red  2019  21000\n",
      "9  Volkswagen Passat      10        Passat SE        Silver  2021  25000\n"
     ]
    }
   ],
   "source": [
    "print(df.sort_values('Car ID'))"
   ]
  },
  {
   "cell_type": "code",
   "execution_count": 95,
   "id": "5ec76918-4962-43fd-9c17-d7dde2d946b7",
   "metadata": {},
   "outputs": [
    {
     "name": "stdout",
     "output_type": "stream",
     "text": [
      "            Car Name  Car ID        Car Model    Car Colour  Year  Price\n",
      "3   Chevrolet Malibu       4        Malibu LT        Silver  2018  22000\n",
      "1       Honda Accord       2        Accord LX         Black  2019  23000\n",
      "8         Kia Optima       9        Optima EX           Red  2019  21000\n",
      "0       Toyota Camry       1         Camry LE          Blue  2020  24000\n",
      "4      Nissan Altima       5      Altima 2.5S         White  2020  24000\n",
      "7     Hyundai Sonata       8       Sonata SEL          Blue  2020  23000\n",
      "2       Ford Mustang       3       Mustang GT           Red  2021  35000\n",
      "5       BMW 3 Series       6             330i  Mineral Grey  2021  41000\n",
      "9  Volkswagen Passat      10        Passat SE        Silver  2021  25000\n",
      "6            Audi A4       7  A4 Premium Plus         Black  2022  45000\n"
     ]
    }
   ],
   "source": [
    "print(df.sort_values('Year'))"
   ]
  },
  {
   "cell_type": "code",
   "execution_count": 111,
   "id": "d5d413dd-359e-4341-af5b-1777135bf9d5",
   "metadata": {},
   "outputs": [
    {
     "name": "stdout",
     "output_type": "stream",
     "text": [
      "            Car Name  Car ID  Car Model Car Colour  Year  Price\n",
      "9  Volkswagen Passat      10  Passat SE     Silver  2021  25000\n"
     ]
    }
   ],
   "source": [
    "print (df.nlargest(1,'Car ID'))"
   ]
  },
  {
   "cell_type": "code",
   "execution_count": 5,
   "id": "02a68d3b-efb4-49c8-b8ab-b58b56810c47",
   "metadata": {},
   "outputs": [
    {
     "name": "stdout",
     "output_type": "stream",
     "text": [
      "            ('Toyota Camry'   1          'Camry LE'           'Blue'   2020  \\\n",
      "0           ('Honda Accord'   2         'Accord LX'          'Black'   2019   \n",
      "1           ('Ford Mustang'   3        'Mustang GT'            'Red'   2021   \n",
      "2       ('Chevrolet Malibu'   4         'Malibu LT'         'Silver'   2018   \n",
      "3          ('Nissan Altima'   5       'Altima 2.5S'          'White'   2020   \n",
      "4           ('BMW 3 Series'   6              '330i'   'Mineral Grey'   2021   \n",
      "5                ('Audi A4'   7   'A4 Premium Plus'          'Black'   2022   \n",
      "6         ('Hyundai Sonata'   8        'Sonata SEL'           'Blue'   2020   \n",
      "7             ('Kia Optima'   9         'Optima EX'            'Red'   2019   \n",
      "8      ('Volkswagen Passat'  10         'Passat SE'         'Silver'   2021   \n",
      "\n",
      "    24000)  Unnamed: 6  \n",
      "0   23000)         NaN  \n",
      "1   35000)         NaN  \n",
      "2   22000)         NaN  \n",
      "3   24000)         NaN  \n",
      "4   41000)         NaN  \n",
      "5   45000)         NaN  \n",
      "6   23000)         NaN  \n",
      "7   21000)         NaN  \n",
      "8   25000)         NaN  \n"
     ]
    }
   ],
   "source": [
    "dd=pd.read_csv(\"C:\\\\Users\\\\Shreyas1\\\\Downloads\\\\Telegram Desktop\\\\first.csv\")\n",
    "print(dd)\n"
   ]
  },
  {
   "cell_type": "code",
   "execution_count": 9,
   "id": "14071586-5e30-4e3b-8476-4eb9be3e40e9",
   "metadata": {},
   "outputs": [
    {
     "name": "stdout",
     "output_type": "stream",
     "text": [
      "        Series_reference   Period  Data_value Suppressed Status    Units  \\\n",
      "0      BASA.SA020002A1AD  2015.12   4030051.0          n      F   Dollar   \n",
      "1      BASA.SA020002A1AD  2016.12   5604358.0          n      F   Dollar   \n",
      "2      BASA.SA020002A1AD  2017.12   6303698.0          n      F   Dollar   \n",
      "3      BASA.SA020002A1AD  2018.12   7387968.0          n      F   Dollar   \n",
      "4      BASA.SA020002A1AD  2019.12   8920351.0          n      F   Dollar   \n",
      "...                  ...      ...         ...        ...    ...      ...   \n",
      "46567          BASQ.SV1Z  2023.06   9052717.0          n      F  dollars   \n",
      "46568          BASQ.SV1Z  2023.09   9378134.0          n      F  dollars   \n",
      "46569          BASQ.SV1Z  2023.12   9326125.0          n      P  dollars   \n",
      "46570          BASQ.SV1Z  2024.03   8439315.0          n      P  dollars   \n",
      "46571          BASQ.SV1Z  2024.06   8814181.0          n      P  dollars   \n",
      "\n",
      "       Magnitude                         Subject  \\\n",
      "0              3  Building Activity Survey - BAS   \n",
      "1              3  Building Activity Survey - BAS   \n",
      "2              3  Building Activity Survey - BAS   \n",
      "3              3  Building Activity Survey - BAS   \n",
      "4              3  Building Activity Survey - BAS   \n",
      "...          ...                             ...   \n",
      "46567          3  Building Activity Survey - BAS   \n",
      "46568          3  Building Activity Survey - BAS   \n",
      "46569          3  Building Activity Survey - BAS   \n",
      "46570          3  Building Activity Survey - BAS   \n",
      "46571          3  Building Activity Survey - BAS   \n",
      "\n",
      "                               Group       Series_title_1 Series_title_2  \\\n",
      "0        Building activity by region      Auckland Region  All buildings   \n",
      "1        Building activity by region      Auckland Region  All buildings   \n",
      "2        Building activity by region      Auckland Region  All buildings   \n",
      "3        Building activity by region      Auckland Region  All buildings   \n",
      "4        Building activity by region      Auckland Region  All buildings   \n",
      "...                              ...                  ...            ...   \n",
      "46567  Value by institutional sector  Total - All Sectors            NaN   \n",
      "46568  Value by institutional sector  Total - All Sectors            NaN   \n",
      "46569  Value by institutional sector  Total - All Sectors            NaN   \n",
      "46570  Value by institutional sector  Total - All Sectors            NaN   \n",
      "46571  Value by institutional sector  Total - All Sectors            NaN   \n",
      "\n",
      "      Series_title_3 Series_title_4 Series_title_5  \n",
      "0                New          Value         Actual  \n",
      "1                New          Value         Actual  \n",
      "2                New          Value         Actual  \n",
      "3                New          Value         Actual  \n",
      "4                New          Value         Actual  \n",
      "...              ...            ...            ...  \n",
      "46567            NaN            NaN            NaN  \n",
      "46568            NaN            NaN            NaN  \n",
      "46569            NaN            NaN            NaN  \n",
      "46570            NaN            NaN            NaN  \n",
      "46571            NaN            NaN            NaN  \n",
      "\n",
      "[46572 rows x 14 columns]\n"
     ]
    }
   ],
   "source": [
    "dd=pd.read_csv(\"C:\\\\Users\\\\Shreyas1\\\\Downloads\\\\Telegram Desktop\\\\myone.csv\")\n",
    "print(dd)"
   ]
  },
  {
   "cell_type": "code",
   "execution_count": 5,
   "id": "d6f35322-eb2d-49b3-b36f-aa372157d5b7",
   "metadata": {},
   "outputs": [
    {
     "name": "stdout",
     "output_type": "stream",
     "text": [
      "       Series_reference  Period  Data_value  Suppressed  Status  Units  \\\n",
      "0                 False   False       False       False   False  False   \n",
      "1                 False   False       False       False   False  False   \n",
      "2                 False   False       False       False   False  False   \n",
      "3                 False   False       False       False   False  False   \n",
      "4                 False   False       False       False   False  False   \n",
      "...                 ...     ...         ...         ...     ...    ...   \n",
      "46567             False   False       False       False   False  False   \n",
      "46568             False   False       False       False   False  False   \n",
      "46569             False   False       False       False   False  False   \n",
      "46570             False   False       False       False   False  False   \n",
      "46571             False   False       False       False   False  False   \n",
      "\n",
      "       Magnitude  Subject  Group  Series_title_1  Series_title_2  \\\n",
      "0          False    False  False           False           False   \n",
      "1          False    False  False           False           False   \n",
      "2          False    False  False           False           False   \n",
      "3          False    False  False           False           False   \n",
      "4          False    False  False           False           False   \n",
      "...          ...      ...    ...             ...             ...   \n",
      "46567      False    False  False           False            True   \n",
      "46568      False    False  False           False            True   \n",
      "46569      False    False  False           False            True   \n",
      "46570      False    False  False           False            True   \n",
      "46571      False    False  False           False            True   \n",
      "\n",
      "       Series_title_3  Series_title_4  Series_title_5  \n",
      "0               False           False           False  \n",
      "1               False           False           False  \n",
      "2               False           False           False  \n",
      "3               False           False           False  \n",
      "4               False           False           False  \n",
      "...               ...             ...             ...  \n",
      "46567            True            True            True  \n",
      "46568            True            True            True  \n",
      "46569            True            True            True  \n",
      "46570            True            True            True  \n",
      "46571            True            True            True  \n",
      "\n",
      "[46572 rows x 14 columns]\n"
     ]
    }
   ],
   "source": [
    "print(dd.isna())"
   ]
  },
  {
   "cell_type": "code",
   "execution_count": 29,
   "id": "68e13c0c-27a5-47f2-9d50-5baf5b0f0ae2",
   "metadata": {},
   "outputs": [
    {
     "name": "stdout",
     "output_type": "stream",
     "text": [
      "       Series_reference   Period  Data_value Suppressed Status   Units  \\\n",
      "5295  BASA.SATZ0002C1AD  2023.12  36283780.0          n      P  Dollar   \n",
      "\n",
      "      Magnitude                         Subject                        Group  \\\n",
      "5295          3  Building Activity Survey - BAS  Building activity by region   \n",
      "\n",
      "     Series_title_1 Series_title_2    Series_title_3 Series_title_4  \\\n",
      "5295    New Zealand  All buildings  New plus altered          Value   \n",
      "\n",
      "     Series_title_5  \n",
      "5295         Actual  \n"
     ]
    }
   ],
   "source": [
    "print(dd.nlargest(1,'Data_value'))"
   ]
  },
  {
   "cell_type": "code",
   "execution_count": 33,
   "id": "0757cfb1-f03f-4094-9b2e-d9b8525b7dd9",
   "metadata": {},
   "outputs": [
    {
     "name": "stdout",
     "output_type": "stream",
     "text": [
      "37088267207.6\n"
     ]
    }
   ],
   "source": [
    "print(dd['Data_value'].sum())"
   ]
  },
  {
   "cell_type": "code",
   "execution_count": 35,
   "id": "7dbce01f-25e0-4165-8dda-49b420bb8948",
   "metadata": {},
   "outputs": [
    {
     "name": "stdout",
     "output_type": "stream",
     "text": [
      "36283780.0\n"
     ]
    }
   ],
   "source": [
    "print(dd['Data_value'].max())"
   ]
  },
  {
   "cell_type": "code",
   "execution_count": 37,
   "id": "3f6d8568-8682-4337-9869-51ebd96a957d",
   "metadata": {},
   "outputs": [
    {
     "name": "stdout",
     "output_type": "stream",
     "text": [
      "-1512.0\n"
     ]
    }
   ],
   "source": [
    "print(dd['Data_value'].min())"
   ]
  },
  {
   "cell_type": "code",
   "execution_count": 39,
   "id": "a1ab7e88-b9f1-465e-9841-5e182c744689",
   "metadata": {},
   "outputs": [
    {
     "name": "stdout",
     "output_type": "stream",
     "text": [
      "count    4.633100e+04\n",
      "mean     8.005065e+05\n",
      "std      2.456406e+06\n",
      "min     -1.512000e+03\n",
      "25%      9.000000e+00\n",
      "50%      4.549200e+04\n",
      "75%      4.982225e+05\n",
      "max      3.628378e+07\n",
      "Name: Data_value, dtype: float64\n"
     ]
    }
   ],
   "source": [
    "print(dd['Data_value'].describe())"
   ]
  },
  {
   "cell_type": "code",
   "execution_count": 41,
   "id": "8343dd11-2d7e-4345-becb-8ee16c426e1c",
   "metadata": {},
   "outputs": [
    {
     "name": "stdout",
     "output_type": "stream",
     "text": [
      "Number of Unique Values= Series_reference     1370\n",
      "Period                237\n",
      "Data_value          27147\n",
      "Suppressed              2\n",
      "Status                  4\n",
      "Units                   4\n",
      "Magnitude               2\n",
      "Subject                 1\n",
      "Group                   5\n",
      "Series_title_1         24\n",
      "Series_title_2         16\n",
      "Series_title_3          7\n",
      "Series_title_4          6\n",
      "Series_title_5          3\n",
      "dtype: int64\n"
     ]
    }
   ],
   "source": [
    "nou=dd.nunique()\n",
    "print(\"Number of Unique Values=\",nou)"
   ]
  },
  {
   "cell_type": "code",
   "execution_count": 49,
   "id": "0dddb7e2-b3fe-44bf-b33f-72b9d73226e6",
   "metadata": {},
   "outputs": [],
   "source": [
    "s=pd.Series('Data_values')"
   ]
  },
  {
   "cell_type": "code",
   "execution_count": 51,
   "id": "fcdd710a-c987-4bbe-8ffe-ada2c28a00db",
   "metadata": {},
   "outputs": [
    {
     "name": "stdout",
     "output_type": "stream",
     "text": [
      "0    Data_values\n",
      "dtype: object\n"
     ]
    }
   ],
   "source": [
    "print(s)"
   ]
  },
  {
   "cell_type": "code",
   "execution_count": 7,
   "id": "a0fd35c4-e85e-4f6d-8789-8756425ccedc",
   "metadata": {},
   "outputs": [
    {
     "name": "stdout",
     "output_type": "stream",
     "text": [
      "                                   0                    1  \\\n",
      "('Toyota Camry'      ('Honda Accord'      ('Ford Mustang'   \n",
      " 1                                 2                    3   \n",
      " 'Camry LE'              'Accord LX'         'Mustang GT'   \n",
      " 'Blue'                      'Black'                'Red'   \n",
      " 2020                           2019                 2021   \n",
      " 24000)                       23000)               35000)   \n",
      "Unnamed: 6                       NaN                  NaN   \n",
      "\n",
      "                                       2                     3  \\\n",
      "('Toyota Camry'      ('Chevrolet Malibu'      ('Nissan Altima'   \n",
      " 1                                     4                     5   \n",
      " 'Camry LE'                  'Malibu LT'         'Altima 2.5S'   \n",
      " 'Blue'                         'Silver'               'White'   \n",
      " 2020                               2018                  2020   \n",
      " 24000)                           22000)                24000)   \n",
      "Unnamed: 6                           NaN                   NaN   \n",
      "\n",
      "                                   4                   5  \\\n",
      "('Toyota Camry'      ('BMW 3 Series'          ('Audi A4'   \n",
      " 1                                 6                   7   \n",
      " 'Camry LE'                   '330i'   'A4 Premium Plus'   \n",
      " 'Blue'               'Mineral Grey'             'Black'   \n",
      " 2020                           2021                2022   \n",
      " 24000)                       41000)              45000)   \n",
      "Unnamed: 6                       NaN                 NaN   \n",
      "\n",
      "                                     6                  7  \\\n",
      "('Toyota Camry'      ('Hyundai Sonata'      ('Kia Optima'   \n",
      " 1                                   8                  9   \n",
      " 'Camry LE'               'Sonata SEL'        'Optima EX'   \n",
      " 'Blue'                         'Blue'              'Red'   \n",
      " 2020                             2020               2019   \n",
      " 24000)                         23000)             21000)   \n",
      "Unnamed: 6                         NaN                NaN   \n",
      "\n",
      "                                        8  \n",
      "('Toyota Camry'      ('Volkswagen Passat'  \n",
      " 1                                     10  \n",
      " 'Camry LE'                   'Passat SE'  \n",
      " 'Blue'                          'Silver'  \n",
      " 2020                                2021  \n",
      " 24000)                            25000)  \n",
      "Unnamed: 6                            NaN  \n"
     ]
    }
   ],
   "source": [
    "print(dd.T)"
   ]
  },
  {
   "cell_type": "code",
   "execution_count": 13,
   "id": "d2a1e94b-18e3-4108-8bfd-9de83a83da51",
   "metadata": {},
   "outputs": [
    {
     "name": "stdout",
     "output_type": "stream",
     "text": [
      "                                           0      \\\n",
      "Series_reference               BASA.SA020002A1AD   \n",
      "Period                                   2015.12   \n",
      "Data_value                             4030051.0   \n",
      "Suppressed                                     n   \n",
      "Status                                         F   \n",
      "Units                                     Dollar   \n",
      "Magnitude                                      3   \n",
      "Subject           Building Activity Survey - BAS   \n",
      "Group                Building activity by region   \n",
      "Series_title_1                   Auckland Region   \n",
      "Series_title_2                     All buildings   \n",
      "Series_title_3                               New   \n",
      "Series_title_4                             Value   \n",
      "Series_title_5                            Actual   \n",
      "\n",
      "                                           1      \\\n",
      "Series_reference               BASA.SA020002A1AD   \n",
      "Period                                   2016.12   \n",
      "Data_value                             5604358.0   \n",
      "Suppressed                                     n   \n",
      "Status                                         F   \n",
      "Units                                     Dollar   \n",
      "Magnitude                                      3   \n",
      "Subject           Building Activity Survey - BAS   \n",
      "Group                Building activity by region   \n",
      "Series_title_1                   Auckland Region   \n",
      "Series_title_2                     All buildings   \n",
      "Series_title_3                               New   \n",
      "Series_title_4                             Value   \n",
      "Series_title_5                            Actual   \n",
      "\n",
      "                                           2      \\\n",
      "Series_reference               BASA.SA020002A1AD   \n",
      "Period                                   2017.12   \n",
      "Data_value                             6303698.0   \n",
      "Suppressed                                     n   \n",
      "Status                                         F   \n",
      "Units                                     Dollar   \n",
      "Magnitude                                      3   \n",
      "Subject           Building Activity Survey - BAS   \n",
      "Group                Building activity by region   \n",
      "Series_title_1                   Auckland Region   \n",
      "Series_title_2                     All buildings   \n",
      "Series_title_3                               New   \n",
      "Series_title_4                             Value   \n",
      "Series_title_5                            Actual   \n",
      "\n",
      "                                           3      \\\n",
      "Series_reference               BASA.SA020002A1AD   \n",
      "Period                                   2018.12   \n",
      "Data_value                             7387968.0   \n",
      "Suppressed                                     n   \n",
      "Status                                         F   \n",
      "Units                                     Dollar   \n",
      "Magnitude                                      3   \n",
      "Subject           Building Activity Survey - BAS   \n",
      "Group                Building activity by region   \n",
      "Series_title_1                   Auckland Region   \n",
      "Series_title_2                     All buildings   \n",
      "Series_title_3                               New   \n",
      "Series_title_4                             Value   \n",
      "Series_title_5                            Actual   \n",
      "\n",
      "                                           4      \\\n",
      "Series_reference               BASA.SA020002A1AD   \n",
      "Period                                   2019.12   \n",
      "Data_value                             8920351.0   \n",
      "Suppressed                                     n   \n",
      "Status                                         F   \n",
      "Units                                     Dollar   \n",
      "Magnitude                                      3   \n",
      "Subject           Building Activity Survey - BAS   \n",
      "Group                Building activity by region   \n",
      "Series_title_1                   Auckland Region   \n",
      "Series_title_2                     All buildings   \n",
      "Series_title_3                               New   \n",
      "Series_title_4                             Value   \n",
      "Series_title_5                            Actual   \n",
      "\n",
      "                                           5      \\\n",
      "Series_reference               BASA.SA020002A1AD   \n",
      "Period                                   2020.12   \n",
      "Data_value                             8328971.0   \n",
      "Suppressed                                     n   \n",
      "Status                                         F   \n",
      "Units                                     Dollar   \n",
      "Magnitude                                      3   \n",
      "Subject           Building Activity Survey - BAS   \n",
      "Group                Building activity by region   \n",
      "Series_title_1                   Auckland Region   \n",
      "Series_title_2                     All buildings   \n",
      "Series_title_3                               New   \n",
      "Series_title_4                             Value   \n",
      "Series_title_5                            Actual   \n",
      "\n",
      "                                           6      \\\n",
      "Series_reference               BASA.SA020002A1AD   \n",
      "Period                                   2021.12   \n",
      "Data_value                             9468883.0   \n",
      "Suppressed                                     n   \n",
      "Status                                         F   \n",
      "Units                                     Dollar   \n",
      "Magnitude                                      3   \n",
      "Subject           Building Activity Survey - BAS   \n",
      "Group                Building activity by region   \n",
      "Series_title_1                   Auckland Region   \n",
      "Series_title_2                     All buildings   \n",
      "Series_title_3                               New   \n",
      "Series_title_4                             Value   \n",
      "Series_title_5                            Actual   \n",
      "\n",
      "                                           7      \\\n",
      "Series_reference               BASA.SA020002A1AD   \n",
      "Period                                   2022.12   \n",
      "Data_value                            11757033.0   \n",
      "Suppressed                                     n   \n",
      "Status                                         F   \n",
      "Units                                     Dollar   \n",
      "Magnitude                                      3   \n",
      "Subject           Building Activity Survey - BAS   \n",
      "Group                Building activity by region   \n",
      "Series_title_1                   Auckland Region   \n",
      "Series_title_2                     All buildings   \n",
      "Series_title_3                               New   \n",
      "Series_title_4                             Value   \n",
      "Series_title_5                            Actual   \n",
      "\n",
      "                                           8      \\\n",
      "Series_reference               BASA.SA020002A1AD   \n",
      "Period                                   2023.12   \n",
      "Data_value                            12689972.0   \n",
      "Suppressed                                     n   \n",
      "Status                                         P   \n",
      "Units                                     Dollar   \n",
      "Magnitude                                      3   \n",
      "Subject           Building Activity Survey - BAS   \n",
      "Group                Building activity by region   \n",
      "Series_title_1                   Auckland Region   \n",
      "Series_title_2                     All buildings   \n",
      "Series_title_3                               New   \n",
      "Series_title_4                             Value   \n",
      "Series_title_5                            Actual   \n",
      "\n",
      "                                           9      ...  \\\n",
      "Series_reference               BASA.SA020002A1AJ  ...   \n",
      "Period                                   2016.06  ...   \n",
      "Data_value                             4740926.0  ...   \n",
      "Suppressed                                     n  ...   \n",
      "Status                                         F  ...   \n",
      "Units                                     Dollar  ...   \n",
      "Magnitude                                      3  ...   \n",
      "Subject           Building Activity Survey - BAS  ...   \n",
      "Group                Building activity by region  ...   \n",
      "Series_title_1                   Auckland Region  ...   \n",
      "Series_title_2                     All buildings  ...   \n",
      "Series_title_3                               New  ...   \n",
      "Series_title_4                             Value  ...   \n",
      "Series_title_5                            Actual  ...   \n",
      "\n",
      "                                           46562  \\\n",
      "Series_reference                       BASQ.SV1Z   \n",
      "Period                                   2022.03   \n",
      "Data_value                             7536485.0   \n",
      "Suppressed                                     n   \n",
      "Status                                         F   \n",
      "Units                                    dollars   \n",
      "Magnitude                                      3   \n",
      "Subject           Building Activity Survey - BAS   \n",
      "Group              Value by institutional sector   \n",
      "Series_title_1               Total - All Sectors   \n",
      "Series_title_2                               NaN   \n",
      "Series_title_3                               NaN   \n",
      "Series_title_4                               NaN   \n",
      "Series_title_5                               NaN   \n",
      "\n",
      "                                           46563  \\\n",
      "Series_reference                       BASQ.SV1Z   \n",
      "Period                                   2022.06   \n",
      "Data_value                             8202488.0   \n",
      "Suppressed                                     n   \n",
      "Status                                         F   \n",
      "Units                                    dollars   \n",
      "Magnitude                                      3   \n",
      "Subject           Building Activity Survey - BAS   \n",
      "Group              Value by institutional sector   \n",
      "Series_title_1               Total - All Sectors   \n",
      "Series_title_2                               NaN   \n",
      "Series_title_3                               NaN   \n",
      "Series_title_4                               NaN   \n",
      "Series_title_5                               NaN   \n",
      "\n",
      "                                           46564  \\\n",
      "Series_reference                       BASQ.SV1Z   \n",
      "Period                                   2022.09   \n",
      "Data_value                             9280966.0   \n",
      "Suppressed                                     n   \n",
      "Status                                         F   \n",
      "Units                                    dollars   \n",
      "Magnitude                                      3   \n",
      "Subject           Building Activity Survey - BAS   \n",
      "Group              Value by institutional sector   \n",
      "Series_title_1               Total - All Sectors   \n",
      "Series_title_2                               NaN   \n",
      "Series_title_3                               NaN   \n",
      "Series_title_4                               NaN   \n",
      "Series_title_5                               NaN   \n",
      "\n",
      "                                           46565  \\\n",
      "Series_reference                       BASQ.SV1Z   \n",
      "Period                                   2022.12   \n",
      "Data_value                             9136509.0   \n",
      "Suppressed                                     n   \n",
      "Status                                         F   \n",
      "Units                                    dollars   \n",
      "Magnitude                                      3   \n",
      "Subject           Building Activity Survey - BAS   \n",
      "Group              Value by institutional sector   \n",
      "Series_title_1               Total - All Sectors   \n",
      "Series_title_2                               NaN   \n",
      "Series_title_3                               NaN   \n",
      "Series_title_4                               NaN   \n",
      "Series_title_5                               NaN   \n",
      "\n",
      "                                           46566  \\\n",
      "Series_reference                       BASQ.SV1Z   \n",
      "Period                                   2023.03   \n",
      "Data_value                             8526804.0   \n",
      "Suppressed                                     n   \n",
      "Status                                         F   \n",
      "Units                                    dollars   \n",
      "Magnitude                                      3   \n",
      "Subject           Building Activity Survey - BAS   \n",
      "Group              Value by institutional sector   \n",
      "Series_title_1               Total - All Sectors   \n",
      "Series_title_2                               NaN   \n",
      "Series_title_3                               NaN   \n",
      "Series_title_4                               NaN   \n",
      "Series_title_5                               NaN   \n",
      "\n",
      "                                           46567  \\\n",
      "Series_reference                       BASQ.SV1Z   \n",
      "Period                                   2023.06   \n",
      "Data_value                             9052717.0   \n",
      "Suppressed                                     n   \n",
      "Status                                         F   \n",
      "Units                                    dollars   \n",
      "Magnitude                                      3   \n",
      "Subject           Building Activity Survey - BAS   \n",
      "Group              Value by institutional sector   \n",
      "Series_title_1               Total - All Sectors   \n",
      "Series_title_2                               NaN   \n",
      "Series_title_3                               NaN   \n",
      "Series_title_4                               NaN   \n",
      "Series_title_5                               NaN   \n",
      "\n",
      "                                           46568  \\\n",
      "Series_reference                       BASQ.SV1Z   \n",
      "Period                                   2023.09   \n",
      "Data_value                             9378134.0   \n",
      "Suppressed                                     n   \n",
      "Status                                         F   \n",
      "Units                                    dollars   \n",
      "Magnitude                                      3   \n",
      "Subject           Building Activity Survey - BAS   \n",
      "Group              Value by institutional sector   \n",
      "Series_title_1               Total - All Sectors   \n",
      "Series_title_2                               NaN   \n",
      "Series_title_3                               NaN   \n",
      "Series_title_4                               NaN   \n",
      "Series_title_5                               NaN   \n",
      "\n",
      "                                           46569  \\\n",
      "Series_reference                       BASQ.SV1Z   \n",
      "Period                                   2023.12   \n",
      "Data_value                             9326125.0   \n",
      "Suppressed                                     n   \n",
      "Status                                         P   \n",
      "Units                                    dollars   \n",
      "Magnitude                                      3   \n",
      "Subject           Building Activity Survey - BAS   \n",
      "Group              Value by institutional sector   \n",
      "Series_title_1               Total - All Sectors   \n",
      "Series_title_2                               NaN   \n",
      "Series_title_3                               NaN   \n",
      "Series_title_4                               NaN   \n",
      "Series_title_5                               NaN   \n",
      "\n",
      "                                           46570  \\\n",
      "Series_reference                       BASQ.SV1Z   \n",
      "Period                                   2024.03   \n",
      "Data_value                             8439315.0   \n",
      "Suppressed                                     n   \n",
      "Status                                         P   \n",
      "Units                                    dollars   \n",
      "Magnitude                                      3   \n",
      "Subject           Building Activity Survey - BAS   \n",
      "Group              Value by institutional sector   \n",
      "Series_title_1               Total - All Sectors   \n",
      "Series_title_2                               NaN   \n",
      "Series_title_3                               NaN   \n",
      "Series_title_4                               NaN   \n",
      "Series_title_5                               NaN   \n",
      "\n",
      "                                           46571  \n",
      "Series_reference                       BASQ.SV1Z  \n",
      "Period                                   2024.06  \n",
      "Data_value                             8814181.0  \n",
      "Suppressed                                     n  \n",
      "Status                                         P  \n",
      "Units                                    dollars  \n",
      "Magnitude                                      3  \n",
      "Subject           Building Activity Survey - BAS  \n",
      "Group              Value by institutional sector  \n",
      "Series_title_1               Total - All Sectors  \n",
      "Series_title_2                               NaN  \n",
      "Series_title_3                               NaN  \n",
      "Series_title_4                               NaN  \n",
      "Series_title_5                               NaN  \n",
      "\n",
      "[14 rows x 46572 columns]\n"
     ]
    }
   ],
   "source": [
    "print(dd.T)"
   ]
  },
  {
   "cell_type": "code",
   "execution_count": 15,
   "id": "e7ed4f64-641a-4da0-9622-d0fd66398649",
   "metadata": {},
   "outputs": [
    {
     "name": "stdout",
     "output_type": "stream",
     "text": [
      "<bound method DataFrame.cumprod of         Series_reference   Period  Data_value Suppressed Status    Units  \\\n",
      "0      BASA.SA020002A1AD  2015.12   4030051.0          n      F   Dollar   \n",
      "1      BASA.SA020002A1AD  2016.12   5604358.0          n      F   Dollar   \n",
      "2      BASA.SA020002A1AD  2017.12   6303698.0          n      F   Dollar   \n",
      "3      BASA.SA020002A1AD  2018.12   7387968.0          n      F   Dollar   \n",
      "4      BASA.SA020002A1AD  2019.12   8920351.0          n      F   Dollar   \n",
      "...                  ...      ...         ...        ...    ...      ...   \n",
      "46567          BASQ.SV1Z  2023.06   9052717.0          n      F  dollars   \n",
      "46568          BASQ.SV1Z  2023.09   9378134.0          n      F  dollars   \n",
      "46569          BASQ.SV1Z  2023.12   9326125.0          n      P  dollars   \n",
      "46570          BASQ.SV1Z  2024.03   8439315.0          n      P  dollars   \n",
      "46571          BASQ.SV1Z  2024.06   8814181.0          n      P  dollars   \n",
      "\n",
      "       Magnitude                         Subject  \\\n",
      "0              3  Building Activity Survey - BAS   \n",
      "1              3  Building Activity Survey - BAS   \n",
      "2              3  Building Activity Survey - BAS   \n",
      "3              3  Building Activity Survey - BAS   \n",
      "4              3  Building Activity Survey - BAS   \n",
      "...          ...                             ...   \n",
      "46567          3  Building Activity Survey - BAS   \n",
      "46568          3  Building Activity Survey - BAS   \n",
      "46569          3  Building Activity Survey - BAS   \n",
      "46570          3  Building Activity Survey - BAS   \n",
      "46571          3  Building Activity Survey - BAS   \n",
      "\n",
      "                               Group       Series_title_1 Series_title_2  \\\n",
      "0        Building activity by region      Auckland Region  All buildings   \n",
      "1        Building activity by region      Auckland Region  All buildings   \n",
      "2        Building activity by region      Auckland Region  All buildings   \n",
      "3        Building activity by region      Auckland Region  All buildings   \n",
      "4        Building activity by region      Auckland Region  All buildings   \n",
      "...                              ...                  ...            ...   \n",
      "46567  Value by institutional sector  Total - All Sectors            NaN   \n",
      "46568  Value by institutional sector  Total - All Sectors            NaN   \n",
      "46569  Value by institutional sector  Total - All Sectors            NaN   \n",
      "46570  Value by institutional sector  Total - All Sectors            NaN   \n",
      "46571  Value by institutional sector  Total - All Sectors            NaN   \n",
      "\n",
      "      Series_title_3 Series_title_4 Series_title_5  \n",
      "0                New          Value         Actual  \n",
      "1                New          Value         Actual  \n",
      "2                New          Value         Actual  \n",
      "3                New          Value         Actual  \n",
      "4                New          Value         Actual  \n",
      "...              ...            ...            ...  \n",
      "46567            NaN            NaN            NaN  \n",
      "46568            NaN            NaN            NaN  \n",
      "46569            NaN            NaN            NaN  \n",
      "46570            NaN            NaN            NaN  \n",
      "46571            NaN            NaN            NaN  \n",
      "\n",
      "[46572 rows x 14 columns]>\n"
     ]
    }
   ],
   "source": [
    "print(dd.cumprod)"
   ]
  },
  {
   "cell_type": "code",
   "execution_count": null,
   "id": "d96b9eaf-221a-432b-8b2b-657b92912988",
   "metadata": {},
   "outputs": [],
   "source": []
  }
 ],
 "metadata": {
  "kernelspec": {
   "display_name": "Python 3 (ipykernel)",
   "language": "python",
   "name": "python3"
  },
  "language_info": {
   "codemirror_mode": {
    "name": "ipython",
    "version": 3
   },
   "file_extension": ".py",
   "mimetype": "text/x-python",
   "name": "python",
   "nbconvert_exporter": "python",
   "pygments_lexer": "ipython3",
   "version": "3.12.4"
  }
 },
 "nbformat": 4,
 "nbformat_minor": 5
}
