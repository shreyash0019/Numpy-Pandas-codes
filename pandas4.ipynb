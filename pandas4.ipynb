{
 "cells": [
  {
   "cell_type": "code",
   "execution_count": 31,
   "id": "01920c1f-2e6e-4736-a4ae-7252da76b2bc",
   "metadata": {},
   "outputs": [],
   "source": [
    "import numpy as np\n",
    "import pandas as pd"
   ]
  },
  {
   "cell_type": "code",
   "execution_count": 39,
   "id": "ad8cb3b9-f346-4820-a8bc-54fc088fc1f1",
   "metadata": {},
   "outputs": [
    {
     "name": "stdout",
     "output_type": "stream",
     "text": [
      "[30 32 34 36 38 40 42 44 46 48 50 52 54 56 58 60 62 64 66 68 70 72 74 76\n",
      " 78 80 82 84 86 88]\n"
     ]
    },
    {
     "data": {
      "text/plain": [
       "1"
      ]
     },
     "execution_count": 39,
     "metadata": {},
     "output_type": "execute_result"
    }
   ],
   "source": [
    "a=np.arange(30,90,2)\n",
    "print(a)\n",
    "a.ndim"
   ]
  },
  {
   "cell_type": "code",
   "execution_count": 49,
   "id": "eec1208e-4382-4e01-b597-92e1345029c5",
   "metadata": {},
   "outputs": [
    {
     "name": "stdout",
     "output_type": "stream",
     "text": [
      "{'a': 30, 'b': 45, 'c': 100, 'd': 45, 'e': 60, 'f': 35, 'g': 20, 'i': 65, 'j': 20, 'k': 9} <class 'dict'>\n"
     ]
    }
   ],
   "source": [
    "cricket={\"a\":30,\"b\":45,\"c\":100,\"d\":45,\"e\":60,\"f\":35,\"g\":20, \"i\":65, \"j\":20, \"k\":9}\n",
    "print(cricket,type(cricket))"
   ]
  },
  {
   "cell_type": "code",
   "execution_count": 53,
   "id": "044ba9b5-955a-47a1-9054-3612f8137ad7",
   "metadata": {},
   "outputs": [
    {
     "name": "stdout",
     "output_type": "stream",
     "text": [
      "a     30\n",
      "b     45\n",
      "c    100\n",
      "d     45\n",
      "e     60\n",
      "f     35\n",
      "g     20\n",
      "i     65\n",
      "j     20\n",
      "k      9\n",
      "dtype: int64\n"
     ]
    },
    {
     "data": {
      "text/plain": [
       "10"
      ]
     },
     "execution_count": 53,
     "metadata": {},
     "output_type": "execute_result"
    }
   ],
   "source": [
    "cric_data=pd.Series(cricket)\n",
    "print(cric_data)\n",
    "cric_data.size"
   ]
  },
  {
   "cell_type": "code",
   "execution_count": 67,
   "id": "cb033939-7529-4fdc-9638-2f196555946a",
   "metadata": {},
   "outputs": [
    {
     "name": "stdout",
     "output_type": "stream",
     "text": [
      "a     30.0\n",
      "b     45.0\n",
      "c    100.0\n",
      "d     45.0\n",
      "e     60.0\n",
      "f      NaN\n",
      "g     20.0\n",
      "i      NaN\n",
      "j     20.0\n",
      "k      NaN\n",
      "dtype: float64\n"
     ]
    }
   ],
   "source": [
    "cric_data['f']=np.NaN\n",
    "cric_data['i']=np.NaN\n",
    "cric_data['k']=np.NaN\n",
    "print(cric_data)"
   ]
  },
  {
   "cell_type": "code",
   "execution_count": 69,
   "id": "1bc4d9f7-b211-4db5-bbbb-aaf7c243eab8",
   "metadata": {},
   "outputs": [
    {
     "name": "stdout",
     "output_type": "stream",
     "text": [
      "Total Runs= 320.0\n"
     ]
    }
   ],
   "source": [
    "print(\"Total Runs=\",cric_data.sum())"
   ]
  },
  {
   "cell_type": "code",
   "execution_count": 71,
   "id": "e118dd03-d893-46ad-b585-c3ecfc0374f9",
   "metadata": {},
   "outputs": [
    {
     "name": "stdout",
     "output_type": "stream",
     "text": [
      "Total Number of Players= 10\n",
      "No Players who played some runs= 7\n",
      "No Players who did't played any runs= 3\n"
     ]
    }
   ],
   "source": [
    "print(\"Total Number of Players=\",cric_data.size)\n",
    "print(\"No Players who played some runs=\",cric_data.count())\n",
    "print(\"No Players who did't played any runs=\",(cric_data.size-cric_data.count()))"
   ]
  },
  {
   "cell_type": "code",
   "execution_count": 75,
   "id": "78b3f89a-a931-4197-94c0-93075ec484be",
   "metadata": {},
   "outputs": [
    {
     "name": "stdout",
     "output_type": "stream",
     "text": [
      "==============OR=================\n",
      "No Players who did't played any runs= 3\n",
      "==============OR=================\n",
      "No Players who did't played any runs= 3\n"
     ]
    }
   ],
   "source": [
    "print(\"==============OR=================\")\n",
    "print(\"No Players who did't played any runs=\",cric_data.isna().sum())\n",
    "print(\"==============OR=================\")\n",
    "print(\"No Players who did't played any runs=\",cric_data.isnull().sum())"
   ]
  },
  {
   "cell_type": "code",
   "execution_count": 87,
   "id": "26b6f217-9265-4246-99cc-54df0f437eef",
   "metadata": {},
   "outputs": [
    {
     "name": "stdout",
     "output_type": "stream",
     "text": [
      "Highest Numbers of runs scored by any Batsman : 100.0\n"
     ]
    }
   ],
   "source": [
    "print(\"Highest Numbers of runs scored by any Batsman :\",cric_data.max())"
   ]
  },
  {
   "cell_type": "code",
   "execution_count": 89,
   "id": "a08177ce-365c-432b-99b0-c3dc54297db5",
   "metadata": {},
   "outputs": [
    {
     "name": "stdout",
     "output_type": "stream",
     "text": [
      "Lowest Runs scored by any Batsman : 20.0\n"
     ]
    }
   ],
   "source": [
    "print(\"Lowest Runs scored by any Batsman :\",cric_data.min())"
   ]
  },
  {
   "cell_type": "code",
   "execution_count": 99,
   "id": "dec326e5-91cb-4926-b157-94f3e8e2eb6b",
   "metadata": {},
   "outputs": [
    {
     "name": "stdout",
     "output_type": "stream",
     "text": [
      "average runs scored by all players= 46\n"
     ]
    }
   ],
   "source": [
    "print(\"average runs scored by all players=\",round(cric_data.mean()))"
   ]
  },
  {
   "cell_type": "code",
   "execution_count": 101,
   "id": "ed4d65b0-0ad7-4af6-8ebc-fe69a607f898",
   "metadata": {},
   "outputs": [
    {
     "name": "stdout",
     "output_type": "stream",
     "text": [
      "average runs played by all players= 45.71\n"
     ]
    }
   ],
   "source": [
    "print(\"average runs played by all players=\",round(cric_data.mean(),2))"
   ]
  },
  {
   "cell_type": "code",
   "execution_count": 105,
   "id": "dc749927-dcbe-48a3-9124-274914a5f9c6",
   "metadata": {},
   "outputs": [
    {
     "name": "stdout",
     "output_type": "stream",
     "text": [
      "Median runs played by all players= 45.0\n"
     ]
    }
   ],
   "source": [
    "\n",
    "print(\"Median runs played by all players=\",cric_data.median())"
   ]
  },
  {
   "cell_type": "code",
   "execution_count": 107,
   "id": "71054eea-92b9-4843-80d6-2250ba050ea8",
   "metadata": {},
   "outputs": [
    {
     "name": "stdout",
     "output_type": "stream",
     "text": [
      "Variece between runs by batsman 786.9047619047619\n"
     ]
    }
   ],
   "source": [
    "print(\"Variece between runs by batsman\",cric_data.var())"
   ]
  },
  {
   "cell_type": "code",
   "execution_count": 109,
   "id": "28d926f0-9d6b-4f3e-af6e-2c78789ebda8",
   "metadata": {},
   "outputs": [
    {
     "name": "stdout",
     "output_type": "stream",
     "text": [
      "standard deviation of runs played by all players= 28.05182279112646\n"
     ]
    }
   ],
   "source": [
    "print(\"standard deviation of runs played by all players=\",cric_data.std())"
   ]
  },
  {
   "cell_type": "code",
   "execution_count": 111,
   "id": "601ed7d2-8478-4b15-82a2-9735907f4e6e",
   "metadata": {},
   "outputs": [
    {
     "name": "stdout",
     "output_type": "stream",
     "text": [
      "count      7.000000\n",
      "mean      45.714286\n",
      "std       28.051823\n",
      "min       20.000000\n",
      "25%       25.000000\n",
      "50%       45.000000\n",
      "75%       52.500000\n",
      "max      100.000000\n",
      "dtype: float64\n"
     ]
    }
   ],
   "source": [
    "print(cric_data.describe())"
   ]
  },
  {
   "cell_type": "code",
   "execution_count": 113,
   "id": "e4667573-c859-4e6b-9df9-3bd5683e79c5",
   "metadata": {},
   "outputs": [
    {
     "name": "stdout",
     "output_type": "stream",
     "text": [
      "0     Sonam\n",
      "1    Rossum\n",
      "2    Travis\n",
      "3    Hunter\n",
      "4     Shiva\n",
      "5    Arshad\n",
      "6    Rossum\n",
      "7     Sonam\n",
      "8     Sonam\n",
      "9    Rossum\n",
      "dtype: object\n",
      "--------------------\n",
      "count        10\n",
      "unique        6\n",
      "top       Sonam\n",
      "freq          3\n",
      "dtype: object\n"
     ]
    }
   ],
   "source": [
    "s=pd.Series([\"Sonam\",\"Rossum\",\"Travis\",\"Hunter\",\"Shiva\",\"Arshad\",\"Rossum\",\"Sonam\",\"Sonam\",\"Rossum\"])\n",
    "print(s)\n",
    "print(\"--------------------\")\n",
    "print(s.describe())"
   ]
  },
  {
   "cell_type": "code",
   "execution_count": null,
   "id": "84d743f4-480e-4b0f-a036-b4098c12bf56",
   "metadata": {},
   "outputs": [],
   "source": []
  }
 ],
 "metadata": {
  "kernelspec": {
   "display_name": "Python 3 (ipykernel)",
   "language": "python",
   "name": "python3"
  },
  "language_info": {
   "codemirror_mode": {
    "name": "ipython",
    "version": 3
   },
   "file_extension": ".py",
   "mimetype": "text/x-python",
   "name": "python",
   "nbconvert_exporter": "python",
   "pygments_lexer": "ipython3",
   "version": "3.12.4"
  }
 },
 "nbformat": 4,
 "nbformat_minor": 5
}
