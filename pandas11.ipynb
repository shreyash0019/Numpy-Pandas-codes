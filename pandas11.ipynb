{
 "cells": [
  {
   "cell_type": "code",
   "execution_count": 1,
   "id": "70a4072b-6b6e-4bb6-b0cc-0894f09c7386",
   "metadata": {},
   "outputs": [],
   "source": [
    "import numpy as np\n",
    "import pandas as pd"
   ]
  },
  {
   "cell_type": "code",
   "execution_count": 5,
   "id": "8cbbdc39-5900-4547-8ac0-0929f0dc27a1",
   "metadata": {},
   "outputs": [
    {
     "name": "stdout",
     "output_type": "stream",
     "text": [
      "    htno     name  telugu  english  hindi  maths  science  social\n",
      "0    100   Ramesh      50       60     66     98       66      55\n",
      "1    101   Rajesh      45       67     34     67       66      78\n",
      "2    102   Rossum      56       88     56     99       44      77\n",
      "3    103     Raji      56       78     34     56       88      55\n",
      "4    104   Kalyan      51       63     62     93       67      51\n",
      "5    105  Karthik      48       62     39     68       65      88\n",
      "6    106   Kambli      53       81     59     92       48      73\n",
      "7    107  Praveen      46       88     74     86       78      45\n",
      "8    108   Ganesh      53       62     76     88       76      35\n",
      "9    109     Nags      55       77     44     77       86      58\n",
      "10   110    Biswa      66       48     86     95       48      47\n",
      "11   111   Ritchi      66       68     64     76       98      75\n",
      "12   104   Kalyan      51       63     62     93       67      51\n",
      "13   112  shareef      50       63     99     90       76      67\n",
      "14   113     sonu      60       89     98     87       77      68\n",
      "15   114   Rajesh      45       67     77     55       66      46\n",
      "16   115   Rakesh      67       78     88     78       67      49\n"
     ]
    }
   ],
   "source": [
    "df=pd.read_csv(\"C:\\\\Users\\\\Shreyas1\\\\all_data\\\\Pandas_code\\\\studentmarks1.csv\")\n",
    "print(df)"
   ]
  },
  {
   "cell_type": "code",
   "execution_count": 7,
   "id": "e8195978-b764-481a-ac02-66ca9b5b9520",
   "metadata": {},
   "outputs": [],
   "source": [
    "df[\"total\"]=df[\"telugu\"]+df[\"hindi\"]+df[\"english\"]+df[\"maths\"]+df[\"science\"]+df[\"social\"]\n"
   ]
  },
  {
   "cell_type": "code",
   "execution_count": 9,
   "id": "f3d08982-9085-4dbf-872f-3d0437f286e7",
   "metadata": {},
   "outputs": [
    {
     "name": "stdout",
     "output_type": "stream",
     "text": [
      "    htno     name  telugu  english  hindi  maths  science  social  total\n",
      "0    100   Ramesh      50       60     66     98       66      55    395\n",
      "1    101   Rajesh      45       67     34     67       66      78    357\n",
      "2    102   Rossum      56       88     56     99       44      77    420\n",
      "3    103     Raji      56       78     34     56       88      55    367\n",
      "4    104   Kalyan      51       63     62     93       67      51    387\n",
      "5    105  Karthik      48       62     39     68       65      88    370\n",
      "6    106   Kambli      53       81     59     92       48      73    406\n",
      "7    107  Praveen      46       88     74     86       78      45    417\n",
      "8    108   Ganesh      53       62     76     88       76      35    390\n",
      "9    109     Nags      55       77     44     77       86      58    397\n",
      "10   110    Biswa      66       48     86     95       48      47    390\n",
      "11   111   Ritchi      66       68     64     76       98      75    447\n",
      "12   104   Kalyan      51       63     62     93       67      51    387\n",
      "13   112  shareef      50       63     99     90       76      67    445\n",
      "14   113     sonu      60       89     98     87       77      68    479\n",
      "15   114   Rajesh      45       67     77     55       66      46    356\n",
      "16   115   Rakesh      67       78     88     78       67      49    427\n"
     ]
    }
   ],
   "source": [
    "print(df)"
   ]
  },
  {
   "cell_type": "code",
   "execution_count": 11,
   "id": "4fc71f17-16e3-44f4-8ee1-c234b1812349",
   "metadata": {},
   "outputs": [],
   "source": [
    "#calculate percentage--percent = round((total/600)*100,2) and rounded to 2 Dec places\n",
    "df[\"percent\"]=round((df[\"total\"]/600)*100,2)"
   ]
  },
  {
   "cell_type": "code",
   "execution_count": 13,
   "id": "47b95c88-b88f-48cb-b753-c133490b2d26",
   "metadata": {},
   "outputs": [
    {
     "name": "stdout",
     "output_type": "stream",
     "text": [
      "    htno     name  telugu  english  hindi  maths  science  social  total  \\\n",
      "0    100   Ramesh      50       60     66     98       66      55    395   \n",
      "1    101   Rajesh      45       67     34     67       66      78    357   \n",
      "2    102   Rossum      56       88     56     99       44      77    420   \n",
      "3    103     Raji      56       78     34     56       88      55    367   \n",
      "4    104   Kalyan      51       63     62     93       67      51    387   \n",
      "5    105  Karthik      48       62     39     68       65      88    370   \n",
      "6    106   Kambli      53       81     59     92       48      73    406   \n",
      "7    107  Praveen      46       88     74     86       78      45    417   \n",
      "8    108   Ganesh      53       62     76     88       76      35    390   \n",
      "9    109     Nags      55       77     44     77       86      58    397   \n",
      "10   110    Biswa      66       48     86     95       48      47    390   \n",
      "11   111   Ritchi      66       68     64     76       98      75    447   \n",
      "12   104   Kalyan      51       63     62     93       67      51    387   \n",
      "13   112  shareef      50       63     99     90       76      67    445   \n",
      "14   113     sonu      60       89     98     87       77      68    479   \n",
      "15   114   Rajesh      45       67     77     55       66      46    356   \n",
      "16   115   Rakesh      67       78     88     78       67      49    427   \n",
      "\n",
      "    percent  \n",
      "0     65.83  \n",
      "1     59.50  \n",
      "2     70.00  \n",
      "3     61.17  \n",
      "4     64.50  \n",
      "5     61.67  \n",
      "6     67.67  \n",
      "7     69.50  \n",
      "8     65.00  \n",
      "9     66.17  \n",
      "10    65.00  \n",
      "11    74.50  \n",
      "12    64.50  \n",
      "13    74.17  \n",
      "14    79.83  \n",
      "15    59.33  \n",
      "16    71.17  \n"
     ]
    }
   ],
   "source": [
    "print(df)"
   ]
  },
  {
   "cell_type": "code",
   "execution_count": 15,
   "id": "15ed2fb4-5a61-4497-8615-a71e0cce6677",
   "metadata": {},
   "outputs": [],
   "source": [
    "df[\"grade\"]=None"
   ]
  },
  {
   "cell_type": "code",
   "execution_count": 17,
   "id": "0b1a471f-2e2f-4421-9673-0af4015e4295",
   "metadata": {},
   "outputs": [
    {
     "name": "stdout",
     "output_type": "stream",
     "text": [
      "    htno     name  telugu  english  hindi  maths  science  social  total  \\\n",
      "0    100   Ramesh      50       60     66     98       66      55    395   \n",
      "1    101   Rajesh      45       67     34     67       66      78    357   \n",
      "2    102   Rossum      56       88     56     99       44      77    420   \n",
      "3    103     Raji      56       78     34     56       88      55    367   \n",
      "4    104   Kalyan      51       63     62     93       67      51    387   \n",
      "5    105  Karthik      48       62     39     68       65      88    370   \n",
      "6    106   Kambli      53       81     59     92       48      73    406   \n",
      "7    107  Praveen      46       88     74     86       78      45    417   \n",
      "8    108   Ganesh      53       62     76     88       76      35    390   \n",
      "9    109     Nags      55       77     44     77       86      58    397   \n",
      "10   110    Biswa      66       48     86     95       48      47    390   \n",
      "11   111   Ritchi      66       68     64     76       98      75    447   \n",
      "12   104   Kalyan      51       63     62     93       67      51    387   \n",
      "13   112  shareef      50       63     99     90       76      67    445   \n",
      "14   113     sonu      60       89     98     87       77      68    479   \n",
      "15   114   Rajesh      45       67     77     55       66      46    356   \n",
      "16   115   Rakesh      67       78     88     78       67      49    427   \n",
      "\n",
      "    percent grade  \n",
      "0     65.83  None  \n",
      "1     59.50  None  \n",
      "2     70.00  None  \n",
      "3     61.17  None  \n",
      "4     64.50  None  \n",
      "5     61.67  None  \n",
      "6     67.67  None  \n",
      "7     69.50  None  \n",
      "8     65.00  None  \n",
      "9     66.17  None  \n",
      "10    65.00  None  \n",
      "11    74.50  None  \n",
      "12    64.50  None  \n",
      "13    74.17  None  \n",
      "14    79.83  None  \n",
      "15    59.33  None  \n",
      "16    71.17  None  \n"
     ]
    }
   ],
   "source": [
    "print(df)"
   ]
  },
  {
   "cell_type": "code",
   "execution_count": 19,
   "id": "892c4cd1-fa9a-45ee-afe3-b3a014daa862",
   "metadata": {},
   "outputs": [],
   "source": [
    "#Assig grades\n",
    "#Grading Rules\n",
    "#\"Distinction\"----Provided percent >=72\n",
    "#\"First\"---------Provded percent ranges between less than 72 and greater than or equal to 65\n",
    "#\"Second\"--------provided Percent ranges between less than 65 and greater than or equal to 60\n",
    "#\"Thrid\"-------Provided Percent less than 60\n",
    "df.loc[df[\"percent\"]>=72,[\"grade\"]]=\"DISTINCTION\"\n",
    "df.loc[(df[\"percent\"]<72) & (df[\"percent\"]>=65),[\"grade\"]]=\"FIRST\"\n",
    "df.loc[(df[\"percent\"]>=60) &  (df[\"percent\"]<65),[\"grade\"]]=\"SECOND\"\n",
    "df.loc[df[\"percent\"]<60 ,[\"grade\"]]=\"THIRD\""
   ]
  },
  {
   "cell_type": "code",
   "execution_count": 21,
   "id": "1a8eeda2-8d1d-4f8f-b37f-f704e80f4753",
   "metadata": {},
   "outputs": [
    {
     "name": "stdout",
     "output_type": "stream",
     "text": [
      "    htno     name  telugu  english  hindi  maths  science  social  total  \\\n",
      "0    100   Ramesh      50       60     66     98       66      55    395   \n",
      "1    101   Rajesh      45       67     34     67       66      78    357   \n",
      "2    102   Rossum      56       88     56     99       44      77    420   \n",
      "3    103     Raji      56       78     34     56       88      55    367   \n",
      "4    104   Kalyan      51       63     62     93       67      51    387   \n",
      "5    105  Karthik      48       62     39     68       65      88    370   \n",
      "6    106   Kambli      53       81     59     92       48      73    406   \n",
      "7    107  Praveen      46       88     74     86       78      45    417   \n",
      "8    108   Ganesh      53       62     76     88       76      35    390   \n",
      "9    109     Nags      55       77     44     77       86      58    397   \n",
      "10   110    Biswa      66       48     86     95       48      47    390   \n",
      "11   111   Ritchi      66       68     64     76       98      75    447   \n",
      "12   104   Kalyan      51       63     62     93       67      51    387   \n",
      "13   112  shareef      50       63     99     90       76      67    445   \n",
      "14   113     sonu      60       89     98     87       77      68    479   \n",
      "15   114   Rajesh      45       67     77     55       66      46    356   \n",
      "16   115   Rakesh      67       78     88     78       67      49    427   \n",
      "\n",
      "    percent        grade  \n",
      "0     65.83        FIRST  \n",
      "1     59.50        THIRD  \n",
      "2     70.00        FIRST  \n",
      "3     61.17       SECOND  \n",
      "4     64.50       SECOND  \n",
      "5     61.67       SECOND  \n",
      "6     67.67        FIRST  \n",
      "7     69.50        FIRST  \n",
      "8     65.00        FIRST  \n",
      "9     66.17        FIRST  \n",
      "10    65.00        FIRST  \n",
      "11    74.50  DISTINCTION  \n",
      "12    64.50       SECOND  \n",
      "13    74.17  DISTINCTION  \n",
      "14    79.83  DISTINCTION  \n",
      "15    59.33        THIRD  \n",
      "16    71.17        FIRST  \n"
     ]
    }
   ],
   "source": [
    "print(df)"
   ]
  },
  {
   "cell_type": "code",
   "execution_count": 23,
   "id": "f1838779-c5f6-48e2-b75e-36a9184b1835",
   "metadata": {},
   "outputs": [
    {
     "name": "stdout",
     "output_type": "stream",
     "text": [
      "DataFrame Data Exported to CSV File--verify\n"
     ]
    }
   ],
   "source": [
    "df.to_csv(\"C:\\\\Users\\\\Shreyas1\\\\all_data\\\\Pandas_code\\\\studfinalresult.csv\")\n",
    "print(\"DataFrame Data Exported to CSV File--verify\")"
   ]
  },
  {
   "cell_type": "code",
   "execution_count": 29,
   "id": "0dc4b751-bcc1-4990-802d-6d160c581362",
   "metadata": {},
   "outputs": [
    {
     "name": "stdout",
     "output_type": "stream",
     "text": [
      "DataFrame Data Exported to CSV File--verify\n"
     ]
    }
   ],
   "source": [
    "df.to_excel(\"C:\\\\Users\\\\Shreyas1\\\\all_data\\\\Pandas_code\\\\studfinalresult.xlsx\")\n",
    "print(\"DataFrame Data Exported to excel File--verify\")"
   ]
  },
  {
   "cell_type": "code",
   "execution_count": 31,
   "id": "abaae60d-09d3-425a-84bc-fc57b8ee3e86",
   "metadata": {},
   "outputs": [
    {
     "name": "stdout",
     "output_type": "stream",
     "text": [
      "    htno     name  telugu  english  hindi  maths  science  social  total  \\\n",
      "0    100   Ramesh      50       60     66     98       66      55    395   \n",
      "1    101   Rajesh      45       67     34     67       66      78    357   \n",
      "2    102   Rossum      56       88     56     99       44      77    420   \n",
      "3    103     Raji      56       78     34     56       88      55    367   \n",
      "4    104   Kalyan      51       63     62     93       67      51    387   \n",
      "5    105  Karthik      48       62     39     68       65      88    370   \n",
      "6    106   Kambli      53       81     59     92       48      73    406   \n",
      "7    107  Praveen      46       88     74     86       78      45    417   \n",
      "8    108   Ganesh      53       62     76     88       76      35    390   \n",
      "9    109     Nags      55       77     44     77       86      58    397   \n",
      "10   110    Biswa      66       48     86     95       48      47    390   \n",
      "11   111   Ritchi      66       68     64     76       98      75    447   \n",
      "12   104   Kalyan      51       63     62     93       67      51    387   \n",
      "13   112  shareef      50       63     99     90       76      67    445   \n",
      "14   113     sonu      60       89     98     87       77      68    479   \n",
      "15   114   Rajesh      45       67     77     55       66      46    356   \n",
      "16   115   Rakesh      67       78     88     78       67      49    427   \n",
      "\n",
      "    percent        grade  \n",
      "0     65.83        FIRST  \n",
      "1     59.50        THIRD  \n",
      "2     70.00        FIRST  \n",
      "3     61.17       SECOND  \n",
      "4     64.50       SECOND  \n",
      "5     61.67       SECOND  \n",
      "6     67.67        FIRST  \n",
      "7     69.50        FIRST  \n",
      "8     65.00        FIRST  \n",
      "9     66.17        FIRST  \n",
      "10    65.00        FIRST  \n",
      "11    74.50  DISTINCTION  \n",
      "12    64.50       SECOND  \n",
      "13    74.17  DISTINCTION  \n",
      "14    79.83  DISTINCTION  \n",
      "15    59.33        THIRD  \n",
      "16    71.17        FIRST  \n"
     ]
    }
   ],
   "source": [
    "print(df)"
   ]
  },
  {
   "cell_type": "code",
   "execution_count": null,
   "id": "a9a641d8-544d-459b-a37a-b5890b942639",
   "metadata": {},
   "outputs": [],
   "source": []
  }
 ],
 "metadata": {
  "kernelspec": {
   "display_name": "Python 3 (ipykernel)",
   "language": "python",
   "name": "python3"
  },
  "language_info": {
   "codemirror_mode": {
    "name": "ipython",
    "version": 3
   },
   "file_extension": ".py",
   "mimetype": "text/x-python",
   "name": "python",
   "nbconvert_exporter": "python",
   "pygments_lexer": "ipython3",
   "version": "3.12.4"
  }
 },
 "nbformat": 4,
 "nbformat_minor": 5
}
